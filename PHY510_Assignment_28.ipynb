{
 "cells": [
  {
   "cell_type": "code",
   "execution_count": 4,
   "metadata": {},
   "outputs": [
    {
     "name": "stdout",
     "output_type": "stream",
     "text": [
      "[[0. 0. 0. 0.]\n",
      " [0. 0. 0. 0.]\n",
      " [0. 0. 0. 0.]\n",
      " [0. 0. 0. 0.]]\n"
     ]
    },
    {
     "name": "stderr",
     "output_type": "stream",
     "text": [
      "/usr/lib/python3.6/site-packages/ipykernel_launcher.py:25: RuntimeWarning: overflow encountered in double_scalars\n"
     ]
    }
   ],
   "source": [
    "import numpy as np\n",
    "\n",
    "size = 4\n",
    "\n",
    "def create_upper_matrix(values, size):\n",
    "    upper = np.zeros((size, size))\n",
    "    upper[np.triu_indices(size, 0)] = values\n",
    "    return(upper)\n",
    "\n",
    "\n",
    "number_of_elements = 1/2 * (size**2 + size)\n",
    "\n",
    "\n",
    "elements=np.random.uniform(size = [int(number_of_elements)]) \n",
    "\n",
    "c = create_upper_matrix(elements, size)\n",
    "\n",
    "symmetric_matrix = c + c.T\n",
    "\n",
    "number_of_multiples = 50\n",
    "fil = np.zeros([number_of_multiples +2,1])\n",
    "fil[0] = symmetric_matrix[0,0]\n",
    "for i in range(2,number_of_multiples):\n",
    "    A = np.linalg.matrix_power(symmetric_matrix,i) \n",
    "    B = (np.amax(np.abs(A)))**i\n",
    "    A = A/B\n",
    "    fil[i-1] = A[0,0] \n",
    "    \n",
    "print(A)\n",
    "\n",
    "#You will eventually end up with a matrix with values approaching zero "
   ]
  },
  {
   "cell_type": "code",
   "execution_count": 5,
   "metadata": {},
   "outputs": [
    {
     "data": {
      "text/plain": [
       "[<matplotlib.lines.Line2D at 0x7f032e083630>]"
      ]
     },
     "execution_count": 5,
     "metadata": {},
     "output_type": "execute_result"
    },
    {
     "data": {
      "image/png": "[encoded data removed]",
      "text/plain": [
       "<Figure size 432x288 with 1 Axes>"
      ]
     },
     "metadata": {
      "needs_background": "light"
     },
     "output_type": "display_data"
    }
   ],
   "source": [
    "import matplotlib.pyplot as plt\n",
    "\n",
    "plt.plot(range(number_of_multiples+2),fil)"
   ]
  },
  {
   "cell_type": "code",
   "execution_count": null,
   "metadata": {},
   "outputs": [],
   "source": []
  }
 ],
 "metadata": {
  "kernelspec": {
   "display_name": "Python 3",
   "language": "python",
   "name": "python3"
  },
  "language_info": {
   "codemirror_mode": {
    "name": "ipython",
    "version": 3
   },
   "file_extension": ".py",
   "mimetype": "text/x-python",
   "name": "python",
   "nbconvert_exporter": "python",
   "pygments_lexer": "ipython3",
   "version": "3.6.8"
  }
 },
 "nbformat": 4,
 "nbformat_minor": 2
}
