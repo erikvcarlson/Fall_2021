{
 "cells": [
  {
   "cell_type": "code",
   "execution_count": 9,
   "metadata": {},
   "outputs": [],
   "source": [
    "import math \n",
    "import random\n",
    "import matplotlib.pyplot as plt\n",
    "import numpy as np\n",
    "\n",
    "random.seed('Erik Carlson')\n",
    "\n",
    "#define our function\n",
    "def f(x,a_list,m):\n",
    "    f_val = 0\n",
    "    \n",
    "    for k in range(0,m-1):\n",
    "        f_val += a_list[k] * x**k\n",
    "    \n",
    "    return f_val\n",
    "\n",
    "#generate a simple range matrix from 1 to m i.e m=4 [1, 2, 3, 4]\n",
    "def a_list_gen(m):\n",
    "    return range(1,m+1)\n",
    "\n",
    "#generate the value of a gaussian at a value of x\n",
    "def gaussian(x,mu,sigma):\n",
    "    g = 1/math.sqrt(2 *math.pi * sigma**2) * math.exp(-(x-mu)**2/(2 *sigma**2))\n",
    "    return g"
   ]
  },
  {
   "cell_type": "code",
   "execution_count": 17,
   "metadata": {},
   "outputs": [],
   "source": [
    "def Assignment_18_Gen():    \n",
    "    #init the number of point\n",
    "    n = 25000\n",
    "    #set the order of our polynomial\n",
    "    m = 4\n",
    "    xil = np.zeros([n,1])\n",
    "    fil = []\n",
    "    for i in range(0,n):\n",
    "        xi = i/n\n",
    "        #generate the values of our function with an additional factor to include gaussian noise\n",
    "        fi = f(xi,a_list_gen(4),m)  + float(np.random.normal(0,0.1,1))\n",
    "        xil[i] = xi\n",
    "        fil.append(fi)\n",
    "\n",
    "    #Initalize our matrix A for the general least squares method\n",
    "    A = np.zeros([n,m])\n",
    "    for i in range(0,n):\n",
    "        for j in range(0,m):\n",
    "            A[i,j] = (i/n)**j\n",
    "\n",
    "    #create a column vector with our values of the function at f        \n",
    "    y = np.array(fil)[:, np.newaxis]\n",
    "\n",
    "    #find the coefficents of our polynomial to approximate our polynomial with gaussian noise\n",
    "    \n",
    "    alpha = np.dot((np.dot(np.linalg.pinv(np.dot(A.T,A)),A.T)),y)\n",
    "\n",
    "    x_arr = np.array(xil)\n",
    "    approximated_value = alpha[3]*x_arr**3 + alpha[2]*x_arr**2 + alpha[1]*x_arr + alpha[0]\n",
    "\n",
    "    g = fil-approximated_value\n",
    "    return [g,alpha]\n",
    "\n",
    "\n"
   ]
  },
  {
   "cell_type": "code",
   "execution_count": 18,
   "metadata": {},
   "outputs": [
    {
     "ename": "MemoryError",
     "evalue": "Unable to allocate 4.66 GiB for an array with shape (25000, 25000) and data type float64",
     "output_type": "error",
     "traceback": [
      "\u001b[0;31m---------------------------------------------------------------------------\u001b[0m",
      "\u001b[0;31mMemoryError\u001b[0m                               Traceback (most recent call last)",
      "\u001b[0;32m<ipython-input-18-aa528b1d8b05>\u001b[0m in \u001b[0;36m<module>\u001b[0;34m\u001b[0m\n\u001b[1;32m      4\u001b[0m \u001b[0mparameters_list\u001b[0m \u001b[0;34m=\u001b[0m \u001b[0;34m[\u001b[0m\u001b[0;34m]\u001b[0m\u001b[0;34m\u001b[0m\u001b[0;34m\u001b[0m\u001b[0m\n\u001b[1;32m      5\u001b[0m \u001b[0;32mfor\u001b[0m \u001b[0mi\u001b[0m \u001b[0;32min\u001b[0m \u001b[0mrange\u001b[0m\u001b[0;34m(\u001b[0m\u001b[0;36m0\u001b[0m\u001b[0;34m,\u001b[0m\u001b[0mnum_iter\u001b[0m\u001b[0;34m)\u001b[0m\u001b[0;34m:\u001b[0m\u001b[0;34m\u001b[0m\u001b[0;34m\u001b[0m\u001b[0m\n\u001b[0;32m----> 6\u001b[0;31m     \u001b[0ma\u001b[0m \u001b[0;34m=\u001b[0m \u001b[0mAssignment_18_Gen\u001b[0m\u001b[0;34m(\u001b[0m\u001b[0;34m)\u001b[0m\u001b[0;34m\u001b[0m\u001b[0;34m\u001b[0m\u001b[0m\n\u001b[0m\u001b[1;32m      7\u001b[0m     \u001b[0mb\u001b[0m\u001b[0;34m.\u001b[0m\u001b[0mappend\u001b[0m\u001b[0;34m(\u001b[0m\u001b[0ma\u001b[0m\u001b[0;34m[\u001b[0m\u001b[0;36m0\u001b[0m\u001b[0;34m]\u001b[0m\u001b[0;34m.\u001b[0m\u001b[0mtolist\u001b[0m\u001b[0;34m(\u001b[0m\u001b[0;34m)\u001b[0m\u001b[0;34m)\u001b[0m\u001b[0;34m\u001b[0m\u001b[0;34m\u001b[0m\u001b[0m\n\u001b[1;32m      8\u001b[0m     \u001b[0mc\u001b[0m\u001b[0;34m[\u001b[0m\u001b[0mi\u001b[0m\u001b[0;34m,\u001b[0m\u001b[0;36m0\u001b[0m\u001b[0;34m]\u001b[0m \u001b[0;34m=\u001b[0m \u001b[0mabs\u001b[0m\u001b[0;34m(\u001b[0m\u001b[0ma\u001b[0m\u001b[0;34m[\u001b[0m\u001b[0;36m1\u001b[0m\u001b[0;34m]\u001b[0m\u001b[0;34m[\u001b[0m\u001b[0;36m0\u001b[0m\u001b[0;34m]\u001b[0m \u001b[0;34m-\u001b[0m\u001b[0;36m1\u001b[0m\u001b[0;34m)\u001b[0m\u001b[0;34m\u001b[0m\u001b[0;34m\u001b[0m\u001b[0m\n",
      "\u001b[0;32m<ipython-input-17-8769cabf35f6>\u001b[0m in \u001b[0;36mAssignment_18_Gen\u001b[0;34m()\u001b[0m\n\u001b[1;32m     29\u001b[0m     \u001b[0mapproximated_value\u001b[0m \u001b[0;34m=\u001b[0m \u001b[0malpha\u001b[0m\u001b[0;34m[\u001b[0m\u001b[0;36m3\u001b[0m\u001b[0;34m]\u001b[0m\u001b[0;34m*\u001b[0m\u001b[0mx_arr\u001b[0m\u001b[0;34m**\u001b[0m\u001b[0;36m3\u001b[0m \u001b[0;34m+\u001b[0m \u001b[0malpha\u001b[0m\u001b[0;34m[\u001b[0m\u001b[0;36m2\u001b[0m\u001b[0;34m]\u001b[0m\u001b[0;34m*\u001b[0m\u001b[0mx_arr\u001b[0m\u001b[0;34m**\u001b[0m\u001b[0;36m2\u001b[0m \u001b[0;34m+\u001b[0m \u001b[0malpha\u001b[0m\u001b[0;34m[\u001b[0m\u001b[0;36m1\u001b[0m\u001b[0;34m]\u001b[0m\u001b[0;34m*\u001b[0m\u001b[0mx_arr\u001b[0m \u001b[0;34m+\u001b[0m \u001b[0malpha\u001b[0m\u001b[0;34m[\u001b[0m\u001b[0;36m0\u001b[0m\u001b[0;34m]\u001b[0m\u001b[0;34m\u001b[0m\u001b[0;34m\u001b[0m\u001b[0m\n\u001b[1;32m     30\u001b[0m \u001b[0;34m\u001b[0m\u001b[0m\n\u001b[0;32m---> 31\u001b[0;31m     \u001b[0mg\u001b[0m \u001b[0;34m=\u001b[0m \u001b[0mfil\u001b[0m\u001b[0;34m-\u001b[0m\u001b[0mapproximated_value\u001b[0m\u001b[0;34m\u001b[0m\u001b[0;34m\u001b[0m\u001b[0m\n\u001b[0m\u001b[1;32m     32\u001b[0m     \u001b[0;32mreturn\u001b[0m \u001b[0;34m[\u001b[0m\u001b[0mg\u001b[0m\u001b[0;34m,\u001b[0m\u001b[0malpha\u001b[0m\u001b[0;34m]\u001b[0m\u001b[0;34m\u001b[0m\u001b[0;34m\u001b[0m\u001b[0m\n\u001b[1;32m     33\u001b[0m \u001b[0;34m\u001b[0m\u001b[0m\n",
      "\u001b[0;31mMemoryError\u001b[0m: Unable to allocate 4.66 GiB for an array with shape (25000, 25000) and data type float64"
     ]
    }
   ],
   "source": [
    "num_iter = 2500\n",
    "b = []\n",
    "c = np.zeros([num_iter,4])\n",
    "parameters_list = []\n",
    "for i in range(0,num_iter):\n",
    "    a = Assignment_18_Gen()\n",
    "    b.append(a[0].tolist())\n",
    "    c[i,0] = abs(a[1][0] -1) \n",
    "    c[i,1] = abs(a[1][1] -2 )\n",
    "    c[i,2] = abs(a[1][2] -3 )\n",
    "    c[i,3] = abs(a[1][3])\n",
    "    \n",
    "print(\"The maximum deviation of the parameters s.t 68% of the deviations fall below this number is: +-\" + str(np.std(c[:,0])) + \" for parameter 1.\")\n",
    "print(\"The maximum deviation of the parameters s.t 68% of the deviations fall below this number is: +-\" + str(np.std(c[:,1])) + \" for parameter 2.\")\n",
    "print(\"The maximum deviation of the parameters s.t 68% of the deviations fall below this number is: +-\" + str(np.std(c[:,2])) + \" for parameter 3.\")\n",
    "print(\"The maximum deviation of the parameters s.t 68% of the deviations fall below this number is: +-\" + str(np.std(c[:,3])) + \" for parameter 4.\")\n",
    "\n"
   ]
  },
  {
   "cell_type": "code",
   "execution_count": null,
   "metadata": {},
   "outputs": [],
   "source": []
  }
 ],
 "metadata": {
  "kernelspec": {
   "display_name": "Python 3",
   "language": "python",
   "name": "python3"
  },
  "language_info": {
   "codemirror_mode": {
    "name": "ipython",
    "version": 3
   },
   "file_extension": ".py",
   "mimetype": "text/x-python",
   "name": "python",
   "nbconvert_exporter": "python",
   "pygments_lexer": "ipython3",
   "version": "3.6.8"
  }
 },
 "nbformat": 4,
 "nbformat_minor": 2
}
