{
 "cells": [
  {
   "cell_type": "code",
   "execution_count": 1,
   "metadata": {},
   "outputs": [],
   "source": [
    "import math\n",
    "import scipy.integrate as integrate\n",
    "import numpy as np\n",
    "\n",
    "# generate a function for the potential at a radius r from the \n",
    "def V(r):\n",
    "    if r == 0:\n",
    "        return 0\n",
    "    return 1/(r**2) *(1/r**2 - 2)\n",
    "\n",
    "def E(n):\n",
    "    Enm = 0\n",
    "    #sum to some \"reasonable\" distance from the last point to avoid an infinite sum \n",
    "    for i in range (1,int(n + n*math.log(n))):\n",
    "        Enm += V(n + i)\n",
    "    En = - Enm \n",
    "    return En\n",
    "\n",
    "#we generate a function which uses our infinite sum to find the approximate value of E_n \n",
    "def approximation(n):\n",
    "    diff_approx = (1/2 * V(n +1) + integrate.quad(lambda x: V(x),n+1,np.inf)[0]) *2\n",
    "    return diff_approx\n"
   ]
  },
  {
   "cell_type": "code",
   "execution_count": 2,
   "metadata": {},
   "outputs": [
    {
     "data": {
      "text/plain": [
       "<Figure size 640x480 with 1 Axes>"
      ]
     },
     "metadata": {},
     "output_type": "display_data"
    }
   ],
   "source": [
    "import matplotlib.pyplot as plt\n",
    "import math\n",
    "val = []\n",
    "val1 = []\n",
    "E_inf = 1/45 * math.pi**2 * (math.pi**2 -30)\n",
    "n = 100\n",
    "for i in range(1,n):\n",
    "    val.append(1/2*(E_inf - E(i)))\n",
    "    val1.append(1/2*(E_inf - approximation(i)))\n",
    "\n",
    "\n",
    "a = np.ones([len(range(1,n)),1]) * 1/2 * (1/45 * math.pi**2 *(math.pi**2 - 30))\n",
    "plt.plot(range(1,n),val,'red') \n",
    "plt.plot(range(1,n),val1,'blue')\n",
    "plt.plot(range(1,n),a,'--')\n",
    "\n",
    "plt.xlabel('Value of n')\n",
    "plt.ylabel('E_n') \n",
    "\n",
    "plt.show()    \n",
    "\n",
    "# our plot show's in blue our integral approximation while our red value shows the value of E_n using our\n",
    "# our semi-infinite sum. The dotted line is the exact value of E_inf and we show that for larger and larger values\n",
    "# E_n that our value from E_n goes to E_inf\n"
   ]
  }
 ],
 "metadata": {
  "kernelspec": {
   "display_name": "Python 3",
   "language": "python",
   "name": "python3"
  },
  "language_info": {
   "codemirror_mode": {
    "name": "ipython",
    "version": 3
   },
   "file_extension": ".py",
   "mimetype": "text/x-python",
   "name": "python",
   "nbconvert_exporter": "python",
   "pygments_lexer": "ipython3",
   "version": "3.6.8"
  }
 },
 "nbformat": 4,
 "nbformat_minor": 2
}
