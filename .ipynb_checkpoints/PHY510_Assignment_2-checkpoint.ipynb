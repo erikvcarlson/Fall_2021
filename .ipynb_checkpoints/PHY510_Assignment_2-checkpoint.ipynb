{
 "cells": [
  {
   "cell_type": "code",
   "execution_count": 35,
   "id": "2098521b",
   "metadata": {},
   "outputs": [],
   "source": [
    "import numpy as np\n",
    "import math\n",
    "#generate an array of natrual numbers up to some large value n\n",
    "N=50000\n",
    "\n",
    "def isPrime(n):\n",
    "    #take out all the even values\n",
    "    if n%2 == 0:\n",
    "        return False\n",
    "    i = 3\n",
    "    while i < math.ceil(math.sqrt(n))+1:\n",
    "        if n%i != 0:\n",
    "            i = i+2\n",
    "        elif n%i == 0: \n",
    "            return False\n",
    "            break\n",
    "    if i >= math.ceil(math.sqrt(n)):\n",
    "        return True\n",
    "        \n",
    "              \n",
    "start_array = np.full(N, False, dtype=bool)\n",
    "start_array[0:3] = True\n",
    "for i in range(3,N):\n",
    "    if isPrime(i+1) == True:\n",
    "        start_array[i] = True\n",
    "\n",
    "#print(start_array)\n",
    "\n",
    "arr = np.linspace(1,N,N,endpoint=True)\n",
    "newarr = arr[start_array]\n"
   ]
  }
 ],
 "metadata": {
  "kernelspec": {
   "display_name": "Python 3 (ipykernel)",
   "language": "python",
   "name": "python3"
  },
  "language_info": {
   "codemirror_mode": {
    "name": "ipython",
    "version": 3
   },
   "file_extension": ".py",
   "mimetype": "text/x-python",
   "name": "python",
   "nbconvert_exporter": "python",
   "pygments_lexer": "ipython3",
   "version": "3.9.7"
  }
 },
 "nbformat": 4,
 "nbformat_minor": 5
}
