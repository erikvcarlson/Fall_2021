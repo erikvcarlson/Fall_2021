{
 "cells": [
  {
   "cell_type": "code",
   "execution_count": 1,
   "metadata": {},
   "outputs": [],
   "source": [
    "#Erik Carlson\n",
    "#PHY510 Assignment 1\n",
    "\n",
    "import numpy as np\n",
    "\n",
    "#N = Some big number\n",
    "N = 1000000 \n",
    "x = np.linspace(0,10,N, endpoint = True)\n",
    "y = np.linspace(10,0,N, endpoint = True)"
   ]
  },
  {
   "cell_type": "code",
   "execution_count": 2,
   "metadata": {},
   "outputs": [
    {
     "name": "stdout",
     "output_type": "stream",
     "text": [
      "The inner product is: 16666649.999983335\n",
      "The elapsed time is:0.0009431838989257812\n"
     ]
    }
   ],
   "source": [
    "#Problem 1\n",
    "import time\n",
    "t = time.time()\n",
    "inner_product = np.inner(x,y)\n",
    "elasped = time.time() - t \n",
    "print('The inner product is: ' + str(inner_product))\n",
    "print('The elapsed time is:' + str(elasped))"
   ]
  },
  {
   "cell_type": "code",
   "execution_count": 3,
   "metadata": {},
   "outputs": [
    {
     "name": "stdout",
     "output_type": "stream",
     "text": [
      "The inner product is: 16666649.999983257\n",
      "The elapsed time is:0.12269234657287598\n"
     ]
    }
   ],
   "source": [
    "#Problem 2\n",
    "u = x.tolist()\n",
    "v = y.tolist()\n",
    "\n",
    "t = time.time()\n",
    "inner_product = 0\n",
    "for i in range(0,len(u)):\n",
    "    inner_product = inner_product + (u[i] * v[i])\n",
    "elasped = time.time() - t \n",
    "\n",
    "print('The inner product is: ' + str(inner_product))\n",
    "print('The elapsed time is:' + str(elasped))"
   ]
  },
  {
   "cell_type": "code",
   "execution_count": null,
   "metadata": {},
   "outputs": [],
   "source": []
  }
 ],
 "metadata": {
  "kernelspec": {
   "display_name": "Python 3 (ipykernel)",
   "language": "python",
   "name": "python3"
  },
  "language_info": {
   "codemirror_mode": {
    "name": "ipython",
    "version": 3
   },
   "file_extension": ".py",
   "mimetype": "text/x-python",
   "name": "python",
   "nbconvert_exporter": "python",
   "pygments_lexer": "ipython3",
   "version": "3.9.7"
  }
 },
 "nbformat": 4,
 "nbformat_minor": 4
}
