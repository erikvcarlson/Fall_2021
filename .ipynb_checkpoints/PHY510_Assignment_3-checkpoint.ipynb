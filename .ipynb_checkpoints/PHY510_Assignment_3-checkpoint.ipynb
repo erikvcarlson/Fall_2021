{
 "cells": [
  {
   "cell_type": "code",
   "execution_count": 1,
   "id": "ed0b69d7",
   "metadata": {},
   "outputs": [
    {
     "name": "stdout",
     "output_type": "stream",
     "text": [
      "8.568933064432611e-06\n",
      "0.712869672287482\n",
      "5.7457423508353214e-06\n",
      "     Root 1        Root 2\n",
      "0 -0.081397     -8.237838\n",
      "1 -0.025513    -26.282218\n",
      "2 -0.008061    -83.184288\n",
      "3 -0.002549   -263.074759\n",
      "4 -0.000806   -831.922687\n",
      "5 -0.000255  -2630.772821\n",
      "6 -0.000081  -8319.234845\n",
      "7 -0.000025 -26307.730731\n",
      "     Root 1        Root 2\n",
      "0 -0.081397     -8.237838\n",
      "1 -0.025513    -26.282218\n",
      "2 -0.008061    -83.184288\n",
      "3 -0.002549   -263.074759\n",
      "4 -0.000806   -831.922687\n",
      "5 -0.000255  -2630.772821\n",
      "6 -0.000081  -8319.234797\n",
      "7 -0.000025 -26307.729080\n",
      "     Root 1        Root 2\n",
      "0 -0.081397     -8.237838\n",
      "1 -0.025513    -26.282218\n",
      "2 -0.008061    -83.184288\n",
      "3 -0.002549   -263.074759\n",
      "4 -0.000806   -831.922687\n",
      "5 -0.000255  -2630.772821\n",
      "6 -0.000081  -8319.234845\n",
      "7 -0.000025 -26307.730731\n"
     ]
    }
   ],
   "source": [
    "import numpy as np\n",
    "import random \n",
    "import math\n",
    "import pandas as pd\n",
    "random.seed('Erik Carlson')\n",
    "\n",
    "a = random.random()\n",
    "b = random.random()\n",
    "c = random.random()\n",
    "while (b**2 - 4*a*c) <= 0:\n",
    "    a = random.random()\n",
    "    b = random.random()\n",
    "    c = random.random()\n",
    "\n",
    "roots_1 = []\n",
    "roots_2 = []\n",
    "roots_3 = []\n",
    "#go to 14 digits after the decimal \n",
    "while abs(a) > 0.00001:\n",
    "    alpha562 = (-b + math.sqrt(b**2 - 4*a*c))/(2*a)\n",
    "    beta562 = (-b - math.sqrt(b**2 - 4*a*c))/(2*a)\n",
    "    alpha563 = (2*c)/(-b + math.sqrt(b**2 - 4*a*c))\n",
    "    beta563 = (2*c)/(-b - math.sqrt(b**2 - 4*a*c))\n",
    "    roots_1.append([alpha562,beta562])\n",
    "    roots_2.append([beta563,alpha563])\n",
    "    q = -1/2*(b + np.sign(b)*math.sqrt(b**2 - 4*a*c)) \n",
    "    x1 = q/a\n",
    "    x2 = c/q\n",
    "    roots_3.append([x2,x1])\n",
    "    a = a/math.sqrt(10)\n",
    "    c = c/math.sqrt(10)\n",
    "\n",
    "df = pd.DataFrame(roots_1,columns =['Root 1', 'Root 2'])\n",
    "df1 = pd.DataFrame(roots_2,columns =['Root 1', 'Root 2'])\n",
    "df2 = pd.DataFrame(roots_3,columns =['Root 1', 'Root 2'])\n",
    "\n",
    "print(a)\n",
    "print(b)\n",
    "print(c)\n",
    "print(df)\n",
    "print(df1)\n",
    "print(df2)"
   ]
  },
  {
   "cell_type": "code",
   "execution_count": null,
   "id": "2ce309ae",
   "metadata": {},
   "outputs": [],
   "source": [
    "a"
   ]
  },
  {
   "cell_type": "code",
   "execution_count": null,
   "id": "000d5741",
   "metadata": {},
   "outputs": [],
   "source": [
    "b"
   ]
  },
  {
   "cell_type": "code",
   "execution_count": null,
   "id": "e32bbfc4",
   "metadata": {},
   "outputs": [],
   "source": [
    "c"
   ]
  },
  {
   "cell_type": "code",
   "execution_count": null,
   "id": "add0c411",
   "metadata": {},
   "outputs": [],
   "source": [
    "math.sqrt(10)"
   ]
  },
  {
   "cell_type": "code",
   "execution_count": null,
   "id": "766828e9",
   "metadata": {},
   "outputs": [],
   "source": [
    "pip install pandas\n"
   ]
  },
  {
   "cell_type": "code",
   "execution_count": null,
   "id": "c938df77",
   "metadata": {},
   "outputs": [],
   "source": []
  }
 ],
 "metadata": {
  "kernelspec": {
   "display_name": "Python 3 (ipykernel)",
   "language": "python",
   "name": "python3"
  },
  "language_info": {
   "codemirror_mode": {
    "name": "ipython",
    "version": 3
   },
   "file_extension": ".py",
   "mimetype": "text/x-python",
   "name": "python",
   "nbconvert_exporter": "python",
   "pygments_lexer": "ipython3",
   "version": "3.9.7"
  }
 },
 "nbformat": 4,
 "nbformat_minor": 5
}
