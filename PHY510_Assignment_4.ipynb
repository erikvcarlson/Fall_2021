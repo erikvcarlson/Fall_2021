{
 "cells": [
  {
   "cell_type": "code",
   "execution_count": 1,
   "id": "414fdaf5",
   "metadata": {},
   "outputs": [],
   "source": [
    "import numpy as np\n",
    "import random \n",
    "import math\n",
    "import pandas as pd"
   ]
  },
  {
   "cell_type": "code",
   "execution_count": 2,
   "id": "1b122ecd",
   "metadata": {},
   "outputs": [
    {
     "data": {
      "text/html": [
       "<div>\n",
       "<style scoped>\n",
       "    .dataframe tbody tr th:only-of-type {\n",
       "        vertical-align: middle;\n",
       "    }\n",
       "\n",
       "    .dataframe tbody tr th {\n",
       "        vertical-align: top;\n",
       "    }\n",
       "\n",
       "    .dataframe thead th {\n",
       "        text-align: right;\n",
       "    }\n",
       "</style>\n",
       "<table border=\"1\" class=\"dataframe\">\n",
       "  <thead>\n",
       "    <tr style=\"text-align: right;\">\n",
       "      <th></th>\n",
       "      <th>0</th>\n",
       "      <th>1</th>\n",
       "      <th>2</th>\n",
       "      <th>3</th>\n",
       "    </tr>\n",
       "  </thead>\n",
       "  <tbody>\n",
       "    <tr>\n",
       "      <th>95</th>\n",
       "      <td>39614081257132168796771975168</td>\n",
       "      <td>0b10000000000000000000000000000000000000000000...</td>\n",
       "      <td>0o40000000000000000000000000000000</td>\n",
       "      <td>0x800000000000000000000000</td>\n",
       "    </tr>\n",
       "    <tr>\n",
       "      <th>96</th>\n",
       "      <td>79228162514264337593543950336</td>\n",
       "      <td>0b10000000000000000000000000000000000000000000...</td>\n",
       "      <td>0o100000000000000000000000000000000</td>\n",
       "      <td>0x1000000000000000000000000</td>\n",
       "    </tr>\n",
       "    <tr>\n",
       "      <th>97</th>\n",
       "      <td>158456325028528675187087900672</td>\n",
       "      <td>0b10000000000000000000000000000000000000000000...</td>\n",
       "      <td>0o200000000000000000000000000000000</td>\n",
       "      <td>0x2000000000000000000000000</td>\n",
       "    </tr>\n",
       "    <tr>\n",
       "      <th>98</th>\n",
       "      <td>316912650057057350374175801344</td>\n",
       "      <td>0b10000000000000000000000000000000000000000000...</td>\n",
       "      <td>0o400000000000000000000000000000000</td>\n",
       "      <td>0x4000000000000000000000000</td>\n",
       "    </tr>\n",
       "    <tr>\n",
       "      <th>99</th>\n",
       "      <td>633825300114114700748351602688</td>\n",
       "      <td>0b10000000000000000000000000000000000000000000...</td>\n",
       "      <td>0o1000000000000000000000000000000000</td>\n",
       "      <td>0x8000000000000000000000000</td>\n",
       "    </tr>\n",
       "  </tbody>\n",
       "</table>\n",
       "</div>"
      ],
      "text/plain": [
       "                                 0  \\\n",
       "95   39614081257132168796771975168   \n",
       "96   79228162514264337593543950336   \n",
       "97  158456325028528675187087900672   \n",
       "98  316912650057057350374175801344   \n",
       "99  633825300114114700748351602688   \n",
       "\n",
       "                                                    1  \\\n",
       "95  0b10000000000000000000000000000000000000000000...   \n",
       "96  0b10000000000000000000000000000000000000000000...   \n",
       "97  0b10000000000000000000000000000000000000000000...   \n",
       "98  0b10000000000000000000000000000000000000000000...   \n",
       "99  0b10000000000000000000000000000000000000000000...   \n",
       "\n",
       "                                       2                            3  \n",
       "95    0o40000000000000000000000000000000   0x800000000000000000000000  \n",
       "96   0o100000000000000000000000000000000  0x1000000000000000000000000  \n",
       "97   0o200000000000000000000000000000000  0x2000000000000000000000000  \n",
       "98   0o400000000000000000000000000000000  0x4000000000000000000000000  \n",
       "99  0o1000000000000000000000000000000000  0x8000000000000000000000000  "
      ]
     },
     "execution_count": 2,
     "metadata": {},
     "output_type": "execute_result"
    }
   ],
   "source": [
    "base10 = []\n",
    "base2 = []\n",
    "base8 = []\n",
    "base16 = []\n",
    "for k in range(0,100):\n",
    "    value = 2**k\n",
    "    base10.append(value)\n",
    "    base2.append(bin(value))\n",
    "    base8.append(oct(value))\n",
    "    base16.append(hex(value))\n",
    "\n",
    "df = pd.DataFrame(list(zip(base10, base2,base8,base16)))\n",
    "#df.head()\n",
    "df.tail()"
   ]
  },
  {
   "cell_type": "code",
   "execution_count": 3,
   "id": "41763ff7",
   "metadata": {},
   "outputs": [
    {
     "name": "stdout",
     "output_type": "stream",
     "text": [
      "We get 1 for base 10.\n",
      "We get 0b00b1 for base 2.\n",
      "We get 0o00o1 for base 8.\n",
      "We get 0x00x1 for base 16.\n"
     ]
    }
   ],
   "source": [
    "base10 = []\n",
    "base2 = []\n",
    "base8 = []\n",
    "base16 = []\n",
    "for k in range(0,100):\n",
    "    value = np.int64(2)**k\n",
    "    base10.append(value)\n",
    "    base2.append(bin(value))\n",
    "    base8.append(oct(value))\n",
    "    base16.append(hex(value))\n",
    "\n",
    "df = pd.DataFrame(list(zip(base10, base2,base8,base16)),columns=['Base10','Base2','Base8','Base16'])\n",
    "df\n",
    "a = df['Base10']\n",
    "print('We get ' + str(a[99] + 1) + ' for base 10.' )\n",
    "a = df['Base2']\n",
    "print('We get ' + str(a[99] + bin(1)) + ' for base 2.')\n",
    "a = df['Base8']\n",
    "print('We get ' + str(a[99] + oct(1)) + ' for base 8.')\n",
    "a = df['Base16']\n",
    "print('We get ' + str(a[99] + hex(1)) + ' for base 16.')    \n"
   ]
  },
  {
   "cell_type": "code",
   "execution_count": 4,
   "id": "f09b503f",
   "metadata": {},
   "outputs": [
    {
     "name": "stdout",
     "output_type": "stream",
     "text": [
      "An Overflow Error occurs when you substract 1 from the most negative np.int64 number.\n"
     ]
    },
    {
     "name": "stderr",
     "output_type": "stream",
     "text": [
      "/var/folders/py/vr4m1wt11hjb8dlz4x_1l0tr0000gn/T/ipykernel_61157/4250545078.py:3: RuntimeWarning: overflow encountered in long_scalars\n",
      "  a = a - 2\n"
     ]
    }
   ],
   "source": [
    "#The largest value is 2**64 - 1\n",
    "a = - np.int64(9223372036854775807) # see C\n",
    "a = a - 2\n",
    "print('An Overflow Error occurs when you substract 1 from the most negative np.int64 number.')\n",
    "#print(a)"
   ]
  },
  {
   "cell_type": "code",
   "execution_count": null,
   "id": "c03b0a63",
   "metadata": {},
   "outputs": [],
   "source": []
  },
  {
   "cell_type": "code",
   "execution_count": null,
   "id": "14822838",
   "metadata": {},
   "outputs": [],
   "source": []
  }
 ],
 "metadata": {
  "kernelspec": {
   "display_name": "Python 3 (ipykernel)",
   "language": "python",
   "name": "python3"
  },
  "language_info": {
   "codemirror_mode": {
    "name": "ipython",
    "version": 3
   },
   "file_extension": ".py",
   "mimetype": "text/x-python",
   "name": "python",
   "nbconvert_exporter": "python",
   "pygments_lexer": "ipython3",
   "version": "3.9.7"
  }
 },
 "nbformat": 4,
 "nbformat_minor": 5
}
