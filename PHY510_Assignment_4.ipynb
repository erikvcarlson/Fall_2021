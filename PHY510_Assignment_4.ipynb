{
 "cells": [
  {
   "cell_type": "code",
   "execution_count": 1,
   "metadata": {},
   "outputs": [],
   "source": [
    "import numpy as np\n",
    "import random \n",
    "import math\n",
    "import pandas as pd"
   ]
  },
  {
   "cell_type": "code",
   "execution_count": 2,
   "metadata": {},
   "outputs": [
    {
     "data": {
      "text/html": [
       "<div>\n",
       "<style scoped>\n",
       "    .dataframe tbody tr th:only-of-type {\n",
       "        vertical-align: middle;\n",
       "    }\n",
       "\n",
       "    .dataframe tbody tr th {\n",
       "        vertical-align: top;\n",
       "    }\n",
       "\n",
       "    .dataframe thead th {\n",
       "        text-align: right;\n",
       "    }\n",
       "</style>\n",
       "<table border=\"1\" class=\"dataframe\">\n",
       "  <thead>\n",
       "    <tr style=\"text-align: right;\">\n",
       "      <th></th>\n",
       "      <th>0</th>\n",
       "      <th>1</th>\n",
       "      <th>2</th>\n",
       "      <th>3</th>\n",
       "    </tr>\n",
       "  </thead>\n",
       "  <tbody>\n",
       "    <tr>\n",
       "      <th>0</th>\n",
       "      <td>1</td>\n",
       "      <td>0b1</td>\n",
       "      <td>0o1</td>\n",
       "      <td>0x1</td>\n",
       "    </tr>\n",
       "    <tr>\n",
       "      <th>1</th>\n",
       "      <td>2</td>\n",
       "      <td>0b10</td>\n",
       "      <td>0o2</td>\n",
       "      <td>0x2</td>\n",
       "    </tr>\n",
       "    <tr>\n",
       "      <th>2</th>\n",
       "      <td>4</td>\n",
       "      <td>0b100</td>\n",
       "      <td>0o4</td>\n",
       "      <td>0x4</td>\n",
       "    </tr>\n",
       "    <tr>\n",
       "      <th>3</th>\n",
       "      <td>8</td>\n",
       "      <td>0b1000</td>\n",
       "      <td>0o10</td>\n",
       "      <td>0x8</td>\n",
       "    </tr>\n",
       "    <tr>\n",
       "      <th>4</th>\n",
       "      <td>16</td>\n",
       "      <td>0b10000</td>\n",
       "      <td>0o20</td>\n",
       "      <td>0x10</td>\n",
       "    </tr>\n",
       "  </tbody>\n",
       "</table>\n",
       "</div>"
      ],
      "text/plain": [
       "    0        1     2     3\n",
       "0   1      0b1   0o1   0x1\n",
       "1   2     0b10   0o2   0x2\n",
       "2   4    0b100   0o4   0x4\n",
       "3   8   0b1000  0o10   0x8\n",
       "4  16  0b10000  0o20  0x10"
      ]
     },
     "execution_count": 2,
     "metadata": {},
     "output_type": "execute_result"
    }
   ],
   "source": [
    "base10 = []\n",
    "base2 = []\n",
    "base8 = []\n",
    "base16 = []\n",
    "for k in range(0,100):\n",
    "    value = 2**k\n",
    "    base10.append(value)\n",
    "    base2.append(bin(value))\n",
    "    base8.append(oct(value))\n",
    "    base16.append(hex(value))\n",
    "\n",
    "df = pd.DataFrame(list(zip(base10, base2,base8,base16)))\n",
    "df.head()\n",
    "#df.tail()"
   ]
  },
  {
   "cell_type": "code",
   "execution_count": 3,
   "metadata": {},
   "outputs": [
    {
     "name": "stdout",
     "output_type": "stream",
     "text": [
      "We get 1 for base 10.\n",
      "We get 0b00b1 for base 2.\n",
      "We get 0o00o1 for base 8.\n",
      "We get 0x00x1 for base 16.\n"
     ]
    }
   ],
   "source": [
    "base10 = []\n",
    "base2 = []\n",
    "base8 = []\n",
    "base16 = []\n",
    "for k in range(0,100):\n",
    "    value = np.int64(2)**k\n",
    "    base10.append(value)\n",
    "    base2.append(bin(value))\n",
    "    base8.append(oct(value))\n",
    "    base16.append(hex(value))\n",
    "\n",
    "df = pd.DataFrame(list(zip(base10, base2,base8,base16)),columns=['Base10','Base2','Base8','Base16'])\n",
    "df\n",
    "a = df['Base10']\n",
    "print('We get ' + str(a[99] + 1) + ' for base 10.' )\n",
    "a = df['Base2']\n",
    "print('We get ' + str(a[99] + bin(1)) + ' for base 2.')\n",
    "a = df['Base8']\n",
    "print('We get ' + str(a[99] + oct(1)) + ' for base 8.')\n",
    "a = df['Base16']\n",
    "print('We get ' + str(a[99] + hex(1)) + ' for base 16.')    \n"
   ]
  },
  {
   "cell_type": "code",
   "execution_count": 8,
   "metadata": {},
   "outputs": [
    {
     "name": "stdout",
     "output_type": "stream",
     "text": [
      "An Overflow Error occurs when you substract 1 from the most negative np.int64 number.\n",
      "9223372036854775807\n"
     ]
    },
    {
     "name": "stderr",
     "output_type": "stream",
     "text": [
      "/usr/lib/python3.6/site-packages/ipykernel_launcher.py:3: RuntimeWarning: overflow encountered in long_scalars\n",
      "  This is separate from the ipykernel package so we can avoid doing imports until\n"
     ]
    }
   ],
   "source": [
    "#The largest value is 2**64 - 1\n",
    "a = - np.int64(9223372036854775807) # see C\n",
    "a = a - 2\n",
    "print('An Overflow Error occurs when you substract 1 from the most negative np.int64 number.')\n",
    "print(a)"
   ]
  },
  {
   "cell_type": "code",
   "execution_count": 9,
   "metadata": {},
   "outputs": [
    {
     "name": "stdout",
     "output_type": "stream",
     "text": [
      "An Overflow Error occurs when you add 1 to the largest np.int64 number.\n",
      "-9223372036854775808\n"
     ]
    },
    {
     "name": "stderr",
     "output_type": "stream",
     "text": [
      "/usr/lib/python3.6/site-packages/ipykernel_launcher.py:3: RuntimeWarning: overflow encountered in long_scalars\n",
      "  This is separate from the ipykernel package so we can avoid doing imports until\n"
     ]
    }
   ],
   "source": [
    "#The largest value is 2**64 - 1\n",
    "a = np.int64(9223372036854775807) # see C\n",
    "a = a +1 \n",
    "print('An Overflow Error occurs when you add 1 to the largest np.int64 number.')\n",
    "print(a)"
   ]
  },
  {
   "cell_type": "code",
   "execution_count": null,
   "metadata": {},
   "outputs": [],
   "source": []
  }
 ],
 "metadata": {
  "kernelspec": {
   "display_name": "Python 3",
   "language": "python",
   "name": "python3"
  },
  "language_info": {
   "codemirror_mode": {
    "name": "ipython",
    "version": 3
   },
   "file_extension": ".py",
   "mimetype": "text/x-python",
   "name": "python",
   "nbconvert_exporter": "python",
   "pygments_lexer": "ipython3",
   "version": "3.6.8"
  }
 },
 "nbformat": 4,
 "nbformat_minor": 5
}
