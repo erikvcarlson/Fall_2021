{
 "cells": [
  {
   "cell_type": "code",
   "execution_count": 1,
   "metadata": {},
   "outputs": [],
   "source": [
    "import numpy as np\n",
    "import math"
   ]
  },
  {
   "cell_type": "code",
   "execution_count": 2,
   "metadata": {},
   "outputs": [],
   "source": [
    "coeff = np.array([1,2,3,4,5,6])"
   ]
  },
  {
   "cell_type": "code",
   "execution_count": 3,
   "metadata": {},
   "outputs": [
    {
     "name": "stdout",
     "output_type": "stream",
     "text": [
      "(0.5516854634395091+1.2533488610195196j)\n",
      "(-0.8057881011465547-1.2229064097165787j)\n",
      "(-0.8057881011465547+1.2229064097165787j)\n",
      "(0.5516854634395091-1.2533488610195196j)\n",
      "(-1.4917997192029737+1.5727372619839977e-06j)\n"
     ]
    }
   ],
   "source": [
    "def horner(x,coeffs):\n",
    "    result = 0\n",
    "    deriv = 0\n",
    "    for a in coeffs:\n",
    "        result = x*result+a\n",
    "    return result\n",
    "\n",
    "def value(n,coeff): \n",
    "    return horner(n,coeff)\n",
    "\n",
    "def derivative(n,coeff_derivative_coeff): \n",
    "    return horner(n,coeff_derivative_coeff)\n",
    "\n",
    "def newt_raph(x,coeff_polynomial,guess,tol):\n",
    "    #coeff_polunomial must be a np.array\n",
    "    power_rule = np.array(range(len(coeff)-1,-1,-1))\n",
    "    coeff_derivative = np.multiply(power_rule, coeff)\n",
    "    coeff_derivative_coeff = coeff_derivative[:-1]\n",
    "    val = value(x,coeff)\n",
    "    dev = derivative(x,coeff_derivative_coeff)\n",
    "    \n",
    "    x_new = x - (val)/(dev)\n",
    "    \n",
    "    while(abs(value(x_new,coeff)) - 0 > tol):\n",
    "        x = x_new\n",
    "        val = value(x,coeff)\n",
    "        dev = derivative(x,coeff_derivative_coeff)\n",
    "        x_new = x - (val)/(dev)\n",
    "        if abs(value(x_new,coeff)) - 0 < tol:\n",
    "            break\n",
    "        \n",
    "    return x_new\n",
    "\n",
    "def secant_meth(x1,x2,tol,coeffs):\n",
    "    counter = 1\n",
    "    while counter < 1000:\n",
    "        x0 = ((x1*horner(x2,coeffs) - x2* horner(x1,coeffs))/ (horner(x2,coeffs) - horner(x1,coeffs)))\n",
    "        c = horner(x1,coeffs) * horner(x0,coeffs)\n",
    "        x1 = x2\n",
    "        x2 = x0 \n",
    "        j = c*np.conj(c)\n",
    "        j = j.real\n",
    "        if abs(j) < tol**2: \n",
    "            break \n",
    "        xm = x0 \n",
    "        counter = counter +1\n",
    "    return x0    \n",
    "\n",
    "#should have 5 distinct roots    \n",
    "root_1 = newt_raph(complex(10,5),coeff,complex(-5,1),1e-6)\n",
    "print(root_1)\n",
    "\n",
    "\n",
    "func_div_array = np.array([1,-root_1])\n",
    "a = np.polydiv(coeff,func_div_array)\n",
    "b = secant_meth(complex(1,1),complex(math.sqrt(2),0),1e-6,a[0])\n",
    "\n",
    "\n",
    "\n",
    "func_div_array = np.array([1,-b])\n",
    "a = np.polydiv(coeff,func_div_array)\n",
    "c = secant_meth(complex(1,0),complex(-math.sqrt(2),0),1e-6,a[0])\n",
    "\n",
    "print(b)\n",
    "\n",
    "print(np.conj(b))\n",
    "print(np.conj(root_1))\n",
    "print(c)"
   ]
  }
 ],
 "metadata": {
  "kernelspec": {
   "display_name": "Python 3",
   "language": "python",
   "name": "python3"
  },
  "language_info": {
   "codemirror_mode": {
    "name": "ipython",
    "version": 3
   },
   "file_extension": ".py",
   "mimetype": "text/x-python",
   "name": "python",
   "nbconvert_exporter": "python",
   "pygments_lexer": "ipython3",
   "version": "3.6.8"
  }
 },
 "nbformat": 4,
 "nbformat_minor": 2
}
