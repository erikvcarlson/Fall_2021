{
 "cells": [
  {
   "cell_type": "code",
   "execution_count": 1,
   "metadata": {},
   "outputs": [],
   "source": [
    "import math\n",
    "def V(r):\n",
    "    if r == 0:\n",
    "        return 0\n",
    "    return 1/(r**6) *(1/r**6 - 2)\n",
    "\n",
    "def E(n): \n",
    "    solution = []\n",
    "    n = int(n)\n",
    "    for n1 in range(-n,n):\n",
    "        for n2 in range(-n,n):\n",
    "            for n3 in range(-n,n):\n",
    "                r = math.sqrt(((n1**2 + n2**2 +n3**2)))\n",
    "                if r == 0:\n",
    "                    continue\n",
    "                solution.append(V(r))\n",
    "    return sum(solution)\n",
    "    \n",
    "                "
   ]
  },
  {
   "cell_type": "code",
   "execution_count": 2,
   "metadata": {},
   "outputs": [
    {
     "data": {
      "text/plain": [
       "<Figure size 640x480 with 1 Axes>"
      ]
     },
     "metadata": {},
     "output_type": "display_data"
    }
   ],
   "source": [
    "import matplotlib.pyplot as plt\n",
    "\n",
    "val = []\n",
    "for i in range(0,10):\n",
    "    val.append(E(i))\n",
    "    \n",
    "plt.plot(range(0,10),val)\n",
    "plt.show()    "
   ]
  },
  {
   "cell_type": "code",
   "execution_count": 3,
   "metadata": {},
   "outputs": [
    {
     "data": {
      "text/latex": [
       "$\\displaystyle \\frac{2}{3 r^{3}} - \\frac{1}{9 r^{9}}$"
      ],
      "text/plain": [
       "2/(3*r**3) - 1/(9*r**9)"
      ]
     },
     "execution_count": 3,
     "metadata": {},
     "output_type": "execute_result"
    }
   ],
   "source": [
    "#approximating p we can integrate the potential as an indefinite integral and see how it behaves\n",
    "#we must add an extra r^2 term when integrating over spherical coordinates\n",
    "\n",
    "import sympy\n",
    "\n",
    "r = sympy.Symbol('r')\n",
    "\n",
    "potential_times_rsq = 1/r**6 * (1/r**6 - 2)*r**2\n",
    "\n",
    "E_n = sympy.integrate(potential_times_rsq, r)\n",
    "\n",
    "sympy.expand(E_n)\n",
    "\n",
    "#we know that the r^9 term is very rapidly going to go to zero for sufficently larger values of r. We can thus say \n",
    "#that p will be dominated by the r^3 term and will thus be 3"
   ]
  },
  {
   "cell_type": "code",
   "execution_count": 4,
   "metadata": {},
   "outputs": [],
   "source": [
    "import numpy as np\n",
    "def richardson_extrapolation(p):\n",
    "\n",
    "    I = np.zeros((p, p))\n",
    "    for k in range(0, p):\n",
    "        I[k, 0] = E(k+1)\n",
    "\n",
    "        # Recursive formula\n",
    "        for j in range(0, k):\n",
    "            \n",
    "            I[k, j+1] = (4**(j+1) * I[k, j] - I[k-1, j]) / (4**(j+1) - 1)\n",
    "\n",
    "    return I  \n",
    "\n",
    "#Using Richardson Extrapolation forces the equation to explode to infinity"
   ]
  },
  {
   "cell_type": "code",
   "execution_count": 14,
   "metadata": {},
   "outputs": [],
   "source": [
    "I = richardson_extrapolation(4)"
   ]
  },
  {
   "cell_type": "code",
   "execution_count": 19,
   "metadata": {},
   "outputs": [
    {
     "data": {
      "text/plain": [
       "0.0036054206969171995"
      ]
     },
     "execution_count": 19,
     "metadata": {},
     "output_type": "execute_result"
    }
   ],
   "source": [
    "#for a 4 term richardson extrapolation we want to see how it compares to the value En approaches \n",
    "\n",
    "(E(10) - I[-1,-1])/E(10)\n",
    "\n",
    "#the error is approximately 0.3%"
   ]
  },
  {
   "cell_type": "code",
   "execution_count": 20,
   "metadata": {},
   "outputs": [
    {
     "data": {
      "text/plain": [
       "0.0074287505970109325"
      ]
     },
     "execution_count": 20,
     "metadata": {},
     "output_type": "execute_result"
    }
   ],
   "source": [
    "#calculating the 4th term by hand without using extrapolation and seeing how it compares to the value En approaches\n",
    "(E(10) - E(4))/E(10)\n",
    "\n",
    "#the error is approximately 0.7%\n",
    "\n",
    "#thus the richardson approximation provides a better solution, although slower, than calculating E(n) directly"
   ]
  },
  {
   "cell_type": "code",
   "execution_count": null,
   "metadata": {},
   "outputs": [],
   "source": []
  }
 ],
 "metadata": {
  "kernelspec": {
   "display_name": "Python 3",
   "language": "python",
   "name": "python3"
  },
  "language_info": {
   "codemirror_mode": {
    "name": "ipython",
    "version": 3
   },
   "file_extension": ".py",
   "mimetype": "text/x-python",
   "name": "python",
   "nbconvert_exporter": "python",
   "pygments_lexer": "ipython3",
   "version": "3.6.8"
  }
 },
 "nbformat": 4,
 "nbformat_minor": 2
}
