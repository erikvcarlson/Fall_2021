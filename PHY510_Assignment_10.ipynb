{
 "cells": [
  {
   "cell_type": "code",
   "execution_count": 1,
   "metadata": {},
   "outputs": [],
   "source": [
    "import numpy as np\n",
    "import math \n",
    "\n",
    "def f(x,a):\n",
    "    return x**4 + a*x - 1\n",
    "\n",
    "\n",
    "\n",
    "#golden ratio \n",
    "gr = (math.sqrt(5) + 1) / 2\n",
    "\n",
    "\n",
    "def gss(a, b,alph, tol=1e-10):\n",
    "    c = b - (b - a) / gr\n",
    "    d = a + (b - a) / gr\n",
    "    while abs(b - a) > tol:\n",
    "        if f(c,alph) < f(d,alph):\n",
    "            b = d\n",
    "        else:\n",
    "            a = c\n",
    "        c = b - (b - a) / gr\n",
    "        d = a + (b - a) / gr\n",
    "\n",
    "    return (b + a) / 2"
   ]
  },
  {
   "cell_type": "code",
   "execution_count": 2,
   "metadata": {},
   "outputs": [
    {
     "data": {
      "text/plain": [
       "-0.6299605164891904"
      ]
     },
     "execution_count": 2,
     "metadata": {},
     "output_type": "execute_result"
    }
   ],
   "source": [
    "gss(-10,10,1)"
   ]
  },
  {
   "cell_type": "code",
   "execution_count": 3,
   "metadata": {},
   "outputs": [
    {
     "data": {
      "text/plain": [
       "0.629960533401202"
      ]
     },
     "execution_count": 3,
     "metadata": {},
     "output_type": "execute_result"
    }
   ],
   "source": [
    "gss(-10,10,-1)"
   ]
  },
  {
   "cell_type": "code",
   "execution_count": 4,
   "metadata": {},
   "outputs": [
    {
     "data": {
      "text/plain": [
       "8.631671400919909e-05"
      ]
     },
     "execution_count": 4,
     "metadata": {},
     "output_type": "execute_result"
    }
   ],
   "source": [
    "gss(-10,10,0)"
   ]
  },
  {
   "cell_type": "code",
   "execution_count": null,
   "metadata": {},
   "outputs": [],
   "source": []
  }
 ],
 "metadata": {
  "kernelspec": {
   "display_name": "Python 3",
   "language": "python",
   "name": "python3"
  },
  "language_info": {
   "codemirror_mode": {
    "name": "ipython",
    "version": 3
   },
   "file_extension": ".py",
   "mimetype": "text/x-python",
   "name": "python",
   "nbconvert_exporter": "python",
   "pygments_lexer": "ipython3",
   "version": "3.6.8"
  }
 },
 "nbformat": 4,
 "nbformat_minor": 2
}
