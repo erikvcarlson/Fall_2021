{
 "cells": [
  {
   "cell_type": "code",
   "execution_count": 1,
   "metadata": {},
   "outputs": [],
   "source": [
    "import numpy as np\n",
    "int1 = np.random.randint(3,high=10)\n",
    "int2 = int1\n",
    "V = np.random.random([int1,int2]) \n",
    "\n",
    "def proj_vector(u,v):\n",
    "    v_norm = np.sqrt(sum(v**2))    \n",
    "\n",
    "    proj_of_u_on_v = (np.dot(u, v)/v_norm**2)*v\n",
    "\n",
    "    return proj_of_u_on_v       \n",
    "                                      \n",
    "Vp = np.zeros(np.shape(V))\n",
    "Vp[:,0] = V[:,0]/np.linalg.norm(V[:,0])\n",
    "\n",
    "for i in range(1,len(V[0,:])):\n",
    "    Vp[:,i] = V[:,i]- proj_vector(V[:,i],Vp[:,0])\n",
    "    for j in range(1,i):\n",
    "        Vp[:,i] = Vp[:,i]- proj_vector(Vp[:,i],Vp[:,j])\n",
    "    Vp[:,i] = Vp[:,i]/np.linalg.norm(Vp[:,i])"
   ]
  },
  {
   "cell_type": "code",
   "execution_count": 2,
   "metadata": {},
   "outputs": [
    {
     "name": "stdout",
     "output_type": "stream",
     "text": [
      "1.1102230246251565e-16\n",
      "7.494005416219807e-16\n",
      "1.1102230246251565e-16\n",
      "-1.1102230246251565e-16\n",
      "7.494005416219807e-16\n",
      "-1.1102230246251565e-16\n"
     ]
    }
   ],
   "source": [
    "for i in range(0,len(Vp[1,:])):\n",
    "    for j in range(0,len(Vp[1,:])):\n",
    "        if i !=j:\n",
    "            print(np.dot(Vp[:,i],Vp[:,j]))"
   ]
  },
  {
   "cell_type": "code",
   "execution_count": 3,
   "metadata": {},
   "outputs": [
    {
     "name": "stdout",
     "output_type": "stream",
     "text": [
      "4.996003610813204e-16\n"
     ]
    }
   ],
   "source": [
    "vec1 = np.random.random() * V[:,0] \n",
    "\n",
    "for i in range(1,len(V[1,:])):\n",
    "    vec1 += np.random.random() * V[:,i]\n",
    "    \n",
    "\n",
    "vec2 = np.dot(vec1,Vp[:,0]) * Vp[:,0]  \n",
    "for i in range(1,len(Vp[1,:])):\n",
    "    vec2 += np.dot(vec1,Vp[:,i]) * Vp[:,i]\n",
    "    \n",
    "print(np.max(np.abs(vec1 - vec2))) "
   ]
  },
  {
   "cell_type": "code",
   "execution_count": 4,
   "metadata": {},
   "outputs": [
    {
     "data": {
      "text/plain": [
       "array([0.50578876, 0.3238501 , 0.37035029])"
      ]
     },
     "execution_count": 4,
     "metadata": {},
     "output_type": "execute_result"
    }
   ],
   "source": [
    "vec1"
   ]
  },
  {
   "cell_type": "code",
   "execution_count": 5,
   "metadata": {},
   "outputs": [
    {
     "data": {
      "text/plain": [
       "array([0.50578876, 0.3238501 , 0.37035029])"
      ]
     },
     "execution_count": 5,
     "metadata": {},
     "output_type": "execute_result"
    }
   ],
   "source": [
    "vec2"
   ]
  },
  {
   "cell_type": "code",
   "execution_count": null,
   "metadata": {},
   "outputs": [],
   "source": []
  }
 ],
 "metadata": {
  "kernelspec": {
   "display_name": "Python 3",
   "language": "python",
   "name": "python3"
  },
  "language_info": {
   "codemirror_mode": {
    "name": "ipython",
    "version": 3
   },
   "file_extension": ".py",
   "mimetype": "text/x-python",
   "name": "python",
   "nbconvert_exporter": "python",
   "pygments_lexer": "ipython3",
   "version": "3.6.8"
  }
 },
 "nbformat": 4,
 "nbformat_minor": 2
}
