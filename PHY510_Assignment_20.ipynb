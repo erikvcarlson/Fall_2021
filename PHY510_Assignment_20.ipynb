{
 "cells": [
  {
   "cell_type": "code",
   "execution_count": 1,
   "metadata": {},
   "outputs": [],
   "source": [
    "#the probability function that we want to sample from is rho(x) = 2x we define that \n",
    "import numpy as np\n",
    "def pdf(x): \n",
    "    return 2*x \n",
    "\n",
    "def pdf2(x): \n",
    "    return x**2 \n",
    "\n",
    "def sample(function, xmin, xmax, ymax):\n",
    "    while True:\n",
    "        #we use a uniform distribution to map the distribution defined by the function\n",
    "        x = np.random.uniform(low=xmin, high=xmax)\n",
    "        y = np.random.uniform(low=0, high=ymax)\n",
    "        if y < function(x):\n",
    "            return x\n",
    "\n",
    "\n",
    "    "
   ]
  },
  {
   "cell_type": "code",
   "execution_count": 2,
   "metadata": {},
   "outputs": [],
   "source": [
    "import matplotlib.pyplot as plt\n",
    "num_samples = 50000\n",
    "a = np.zeros([num_samples,1])\n",
    "for i in range(0,len(a)):\n",
    "    a[i] = sample(pdf, 0, 1, pdf(1))\n",
    "    \n",
    "\n",
    "g = plt.hist(a,density=True,bins=50)"
   ]
  },
  {
   "cell_type": "code",
   "execution_count": 3,
   "metadata": {},
   "outputs": [
    {
     "data": {
      "image/png": "[encoded data removed]",
      "text/plain": [
       "<Figure size 432x288 with 1 Axes>"
      ]
     },
     "metadata": {
      "needs_background": "light"
     },
     "output_type": "display_data"
    }
   ],
   "source": [
    "#extra pdf for x^2 for fun \n",
    "import matplotlib.pyplot as plt\n",
    "num_samples = 50000\n",
    "a = np.zeros([num_samples,1])\n",
    "for i in range(0,len(a)):\n",
    "    a[i] = sample(pdf2, 0, 1, pdf2(1))\n",
    "    \n",
    "\n",
    "g = plt.hist(a,density=True,bins=50)"
   ]
  },
  {
   "cell_type": "code",
   "execution_count": 4,
   "metadata": {},
   "outputs": [
    {
     "data": {
      "image/png": "[encoded data removed]",
      "text/plain": [
       "<Figure size 432x288 with 1 Axes>"
      ]
     },
     "metadata": {
      "needs_background": "light"
     },
     "output_type": "display_data"
    }
   ],
   "source": [
    "U1 = np.random.uniform(size = 100000)\n",
    "U2 = np.random.uniform(size = 100000)\n",
    "\n",
    "U3 = U1+U2\n",
    "g = plt.hist(U3,density=True)\n",
    "\n"
   ]
  },
  {
   "cell_type": "code",
   "execution_count": 5,
   "metadata": {},
   "outputs": [
    {
     "data": {
      "text/plain": [
       "(array([0.02701083, 0.05502205, 0.09103649, 0.14155674, 0.16706696,\n",
       "        0.21858761, 0.27010826, 0.29411789, 0.34763934, 0.38265337,\n",
       "        0.41666701, 0.45568265, 0.52421011, 0.54721934, 0.57823177,\n",
       "        0.6177476 , 0.68027267, 0.70778369, 0.74779973, 0.8218294 ,\n",
       "        0.8188282 , 0.84583903, 0.9228699 , 0.95388233, 0.97339015,\n",
       "        0.98439456, 1.05892444, 1.10194168, 1.18547516, 1.21148559,\n",
       "        1.19197777, 1.27351045, 1.27651165, 1.30252208, 1.34703992,\n",
       "        1.44657982, 1.43757621, 1.51310648, 1.52160989, 1.55162192,\n",
       "        1.59113776, 1.67867284, 1.66916903, 1.77471134, 1.82823279,\n",
       "        1.81472738, 1.84724041, 1.90776467, 1.96778873, 1.92927329]),\n",
       " array([3.98726446e-04, 2.03907101e-02, 4.03826937e-02, 6.03746773e-02,\n",
       "        8.03666609e-02, 1.00358645e-01, 1.20350628e-01, 1.40342612e-01,\n",
       "        1.60334595e-01, 1.80326579e-01, 2.00318563e-01, 2.20310546e-01,\n",
       "        2.40302530e-01, 2.60294514e-01, 2.80286497e-01, 3.00278481e-01,\n",
       "        3.20270464e-01, 3.40262448e-01, 3.60254432e-01, 3.80246415e-01,\n",
       "        4.00238399e-01, 4.20230383e-01, 4.40222366e-01, 4.60214350e-01,\n",
       "        4.80206333e-01, 5.00198317e-01, 5.20190301e-01, 5.40182284e-01,\n",
       "        5.60174268e-01, 5.80166252e-01, 6.00158235e-01, 6.20150219e-01,\n",
       "        6.40142202e-01, 6.60134186e-01, 6.80126170e-01, 7.00118153e-01,\n",
       "        7.20110137e-01, 7.40102121e-01, 7.60094104e-01, 7.80086088e-01,\n",
       "        8.00078071e-01, 8.20070055e-01, 8.40062039e-01, 8.60054022e-01,\n",
       "        8.80046006e-01, 9.00037990e-01, 9.20029973e-01, 9.40021957e-01,\n",
       "        9.60013940e-01, 9.80005924e-01, 9.99997908e-01]),\n",
       " <a list of 50 Patch objects>)"
      ]
     },
     "execution_count": 5,
     "metadata": {},
     "output_type": "execute_result"
    },
    {
     "data": {
      "image/png": "[encoded data removed]",
      "text/plain": [
       "<Figure size 432x288 with 1 Axes>"
      ]
     },
     "metadata": {
      "needs_background": "light"
     },
     "output_type": "display_data"
    }
   ],
   "source": [
    "#from observation define this probability distribution to be similar to -|x-1|+1 from 0 to 2\n",
    "import math\n",
    "\n",
    "U4 = []\n",
    "for a in U3:\n",
    "    if a < 1:\n",
    "        U4.append(a)\n",
    "    elif a >= 1: \n",
    "        U4.append(2-a)  \n",
    "        \n",
    "plt.hist(U4,density=True,bins=50)"
   ]
  },
  {
   "cell_type": "code",
   "execution_count": 6,
   "metadata": {},
   "outputs": [],
   "source": [
    "#for 3 use 2*x and use a uniformly distributed distribution \n",
    "U1 = np.random.uniform(size=50000)"
   ]
  },
  {
   "cell_type": "code",
   "execution_count": 7,
   "metadata": {},
   "outputs": [],
   "source": [
    "b = np.sqrt(U1)"
   ]
  },
  {
   "cell_type": "code",
   "execution_count": 9,
   "metadata": {},
   "outputs": [
    {
     "data": {
      "text/plain": [
       "(array([0.03731895, 0.06354307, 0.1099396 , 0.16743096, 0.1946637 ,\n",
       "        0.22290507, 0.27333608, 0.31973261, 0.34797398, 0.42261187,\n",
       "        0.41656015, 0.49523253, 0.53759458, 0.55272388, 0.58600835,\n",
       "        0.59508593, 0.68182727, 0.72217208, 0.72721518, 0.83211168,\n",
       "        0.85127547, 0.82101686, 0.92187888, 0.90170648, 0.99046506,\n",
       "        1.06611157, 1.09939604, 1.107465  , 1.15184429, 1.14377533,\n",
       "        1.1921891 , 1.25976666, 1.29910285, 1.38786142, 1.47561138,\n",
       "        1.41610279, 1.4614907 , 1.47662   , 1.56941306, 1.54419756,\n",
       "        1.55932686, 1.62286994, 1.66624061, 1.8155164 , 1.76911987,\n",
       "        1.79130951, 1.89923188, 1.87704223, 1.95369737, 2.03337837]),\n",
       " array([0.00853582, 0.02836489, 0.04819396, 0.06802303, 0.0878521 ,\n",
       "        0.10768117, 0.12751024, 0.14733931, 0.16716838, 0.18699744,\n",
       "        0.20682651, 0.22665558, 0.24648465, 0.26631372, 0.28614279,\n",
       "        0.30597186, 0.32580093, 0.34563   , 0.36545907, 0.38528814,\n",
       "        0.4051172 , 0.42494627, 0.44477534, 0.46460441, 0.48443348,\n",
       "        0.50426255, 0.52409162, 0.54392069, 0.56374976, 0.58357883,\n",
       "        0.60340789, 0.62323696, 0.64306603, 0.6628951 , 0.68272417,\n",
       "        0.70255324, 0.72238231, 0.74221138, 0.76204045, 0.78186952,\n",
       "        0.80169858, 0.82152765, 0.84135672, 0.86118579, 0.88101486,\n",
       "        0.90084393, 0.920673  , 0.94050207, 0.96033114, 0.98016021,\n",
       "        0.99998928]),\n",
       " <a list of 50 Patch objects>)"
      ]
     },
     "execution_count": 9,
     "metadata": {},
     "output_type": "execute_result"
    },
    {
     "data": {
      "image/png": "[encoded data removed]",
      "text/plain": [
       "<Figure size 432x288 with 1 Axes>"
      ]
     },
     "metadata": {
      "needs_background": "light"
     },
     "output_type": "display_data"
    }
   ],
   "source": [
    "plt.hist(b,density=True,bins=50)"
   ]
  },
  {
   "cell_type": "code",
   "execution_count": null,
   "metadata": {},
   "outputs": [],
   "source": []
  }
 ],
 "metadata": {
  "kernelspec": {
   "display_name": "Python 3",
   "language": "python",
   "name": "python3"
  },
  "language_info": {
   "codemirror_mode": {
    "name": "ipython",
    "version": 3
   },
   "file_extension": ".py",
   "mimetype": "text/x-python",
   "name": "python",
   "nbconvert_exporter": "python",
   "pygments_lexer": "ipython3",
   "version": "3.6.8"
  }
 },
 "nbformat": 4,
 "nbformat_minor": 2
}
