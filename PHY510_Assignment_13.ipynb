{
 "cells": [
  {
   "cell_type": "code",
   "execution_count": 1,
   "metadata": {},
   "outputs": [
    {
     "data": {
      "text/latex": [
       "$\\displaystyle g{\\left(0 \\right)} + O\\left(x\\right)$"
      ],
      "text/plain": [
       "g(0) + O(x)"
      ]
     },
     "execution_count": 1,
     "metadata": {},
     "output_type": "execute_result"
    }
   ],
   "source": [
    "from sympy  import * \n",
    "from sympy.abc import c, g, x\n",
    "\n",
    "g = Function('g')\n",
    "\n",
    "def taylor(x,m):\n",
    "     return series(g(x), x, n = m)\n",
    "    \n",
    "taylor(x,1)"
   ]
  },
  {
   "cell_type": "code",
   "execution_count": 2,
   "metadata": {},
   "outputs": [
    {
     "data": {
      "text/latex": [
       "$\\displaystyle \\left. \\frac{d}{d x} g{\\left(x \\right)} \\right|_{\\substack{ x=0 }} + O\\left(x^{2}\\right)$"
      ],
      "text/plain": [
       "Subs(Derivative(g(_x), _x), _x, 0) + O(x**2)"
      ]
     },
     "execution_count": 2,
     "metadata": {},
     "output_type": "execute_result"
    }
   ],
   "source": [
    "simplify((taylor(x,3)-taylor(-x,3))/(2*x))"
   ]
  },
  {
   "cell_type": "code",
   "execution_count": 3,
   "metadata": {},
   "outputs": [],
   "source": [
    "#simplify((taylor(x)-2 * g(0) + taylor(-x))/(x**2))"
   ]
  },
  {
   "cell_type": "code",
   "execution_count": 4,
   "metadata": {},
   "outputs": [],
   "source": [
    "m = Symbol('m')\n",
    "h = Symbol('h')\n",
    "f = Function('f')\n",
    "x = Symbol('x')\n",
    "\n",
    "def point(i,m,h):\n",
    "     return (i-Rational(1,2)*m)*h\n",
    "\n",
    "def Fi(x, m):\n",
    "    p = 1 \n",
    "    for i in range(0,m+1):\n",
    "        p *= x-point(i,m,h)\n",
    "    return p\n",
    "\n",
    "def delta(i,x,m):\n",
    "    products = 1\n",
    "    for k in range(0,m+1):\n",
    "        if k!=i:                \n",
    "            products = products * ((x - point(k,m,h))/(point(i,m,h) - point(k,m,h)))\n",
    "    \n",
    "    return products"
   ]
  },
  {
   "cell_type": "code",
   "execution_count": 5,
   "metadata": {},
   "outputs": [
    {
     "data": {
      "text/latex": [
       "$\\displaystyle \\frac{x \\left(h - x\\right) \\left(h + x\\right) \\left(2 h - x\\right) \\left(2 h + x\\right) \\left(3 h - x\\right) \\left(3 h + x\\right) \\left(4 h - x\\right) f{\\left(- 4 h \\right)} - x \\left(h - x\\right) \\left(h + x\\right) \\left(2 h - x\\right) \\left(2 h + x\\right) \\left(3 h - x\\right) \\left(3 h + x\\right) \\left(4 h + x\\right) f{\\left(4 h \\right)} - 8 x \\left(h - x\\right) \\left(h + x\\right) \\left(2 h - x\\right) \\left(2 h + x\\right) \\left(3 h - x\\right) \\left(4 h - x\\right) \\left(4 h + x\\right) f{\\left(- 3 h \\right)} + 8 x \\left(h - x\\right) \\left(h + x\\right) \\left(2 h - x\\right) \\left(2 h + x\\right) \\left(3 h + x\\right) \\left(4 h - x\\right) \\left(4 h + x\\right) f{\\left(3 h \\right)} + 28 x \\left(h - x\\right) \\left(h + x\\right) \\left(2 h - x\\right) \\left(3 h - x\\right) \\left(3 h + x\\right) \\left(4 h - x\\right) \\left(4 h + x\\right) f{\\left(- 2 h \\right)} - 28 x \\left(h - x\\right) \\left(h + x\\right) \\left(2 h + x\\right) \\left(3 h - x\\right) \\left(3 h + x\\right) \\left(4 h - x\\right) \\left(4 h + x\\right) f{\\left(2 h \\right)} - 56 x \\left(h - x\\right) \\left(2 h - x\\right) \\left(2 h + x\\right) \\left(3 h - x\\right) \\left(3 h + x\\right) \\left(4 h - x\\right) \\left(4 h + x\\right) f{\\left(- h \\right)} + 56 x \\left(h + x\\right) \\left(2 h - x\\right) \\left(2 h + x\\right) \\left(3 h - x\\right) \\left(3 h + x\\right) \\left(4 h - x\\right) \\left(4 h + x\\right) f{\\left(h \\right)} + 70 \\left(h - x\\right) \\left(h + x\\right) \\left(2 h - x\\right) \\left(2 h + x\\right) \\left(3 h - x\\right) \\left(3 h + x\\right) \\left(4 h - x\\right) \\left(4 h + x\\right) f{\\left(0 \\right)}}{40320 h^{8}}$"
      ],
      "text/plain": [
       "(x*(h - x)*(h + x)*(2*h - x)*(2*h + x)*(3*h - x)*(3*h + x)*(4*h - x)*f(-4*h) - x*(h - x)*(h + x)*(2*h - x)*(2*h + x)*(3*h - x)*(3*h + x)*(4*h + x)*f(4*h) - 8*x*(h - x)*(h + x)*(2*h - x)*(2*h + x)*(3*h - x)*(4*h - x)*(4*h + x)*f(-3*h) + 8*x*(h - x)*(h + x)*(2*h - x)*(2*h + x)*(3*h + x)*(4*h - x)*(4*h + x)*f(3*h) + 28*x*(h - x)*(h + x)*(2*h - x)*(3*h - x)*(3*h + x)*(4*h - x)*(4*h + x)*f(-2*h) - 28*x*(h - x)*(h + x)*(2*h + x)*(3*h - x)*(3*h + x)*(4*h - x)*(4*h + x)*f(2*h) - 56*x*(h - x)*(2*h - x)*(2*h + x)*(3*h - x)*(3*h + x)*(4*h - x)*(4*h + x)*f(-h) + 56*x*(h + x)*(2*h - x)*(2*h + x)*(3*h - x)*(3*h + x)*(4*h - x)*(4*h + x)*f(h) + 70*(h - x)*(h + x)*(2*h - x)*(2*h + x)*(3*h - x)*(3*h + x)*(4*h - x)*(4*h + x)*f(0))/(40320*h**8)"
      ]
     },
     "execution_count": 5,
     "metadata": {},
     "output_type": "execute_result"
    }
   ],
   "source": [
    "list_2 = []\n",
    "m = 8\n",
    "for j in range(0,m+1): \n",
    "    Fip = f(point(j,m,h)) \n",
    "    list_2.append(Fip * delta(j,x,m))\n",
    "\n",
    "Q = simplify(sum(list_2))\n",
    "\n",
    "Q\n"
   ]
  },
  {
   "cell_type": "code",
   "execution_count": 6,
   "metadata": {},
   "outputs": [],
   "source": [
    "deriv_1 = diff(Q,x)\n",
    "deriv_2 = diff(deriv_1,x)"
   ]
  },
  {
   "cell_type": "code",
   "execution_count": 7,
   "metadata": {},
   "outputs": [],
   "source": [
    "deriv_1 = simplify(deriv_1)\n",
    "#deriv_1\n",
    "#a = deriv_1.subs(x,0)\n",
    "#simplify(a)\n",
    "#cancel(a)"
   ]
  },
  {
   "cell_type": "code",
   "execution_count": 8,
   "metadata": {},
   "outputs": [
    {
     "data": {
      "text/latex": [
       "$\\displaystyle \\frac{3 f{\\left(- 4 h \\right)} - 32 f{\\left(- 3 h \\right)} + 168 f{\\left(- 2 h \\right)} - 672 f{\\left(- h \\right)} + 672 f{\\left(h \\right)} - 168 f{\\left(2 h \\right)} + 32 f{\\left(3 h \\right)} - 3 f{\\left(4 h \\right)}}{840 h}$"
      ],
      "text/plain": [
       "(3*f(-4*h) - 32*f(-3*h) + 168*f(-2*h) - 672*f(-h) + 672*f(h) - 168*f(2*h) + 32*f(3*h) - 3*f(4*h))/(840*h)"
      ]
     },
     "execution_count": 8,
     "metadata": {},
     "output_type": "execute_result"
    }
   ],
   "source": [
    "simplify(deriv_1.subs(x,0))"
   ]
  },
  {
   "cell_type": "code",
   "execution_count": 9,
   "metadata": {},
   "outputs": [
    {
     "data": {
      "text/latex": [
       "$\\displaystyle \\left. \\frac{d^{2}}{d x^{2}} g{\\left(x \\right)} \\right|_{\\substack{ x=0 }} + O\\left(h^{8}\\right)$"
      ],
      "text/plain": [
       "Subs(Derivative(g(_x), (_x, 2)), _x, 0) + O(h**8)"
      ]
     },
     "execution_count": 9,
     "metadata": {},
     "output_type": "execute_result"
    }
   ],
   "source": [
    "deriv_1 = diff(Q,x)\n",
    "deriv_2 = diff(deriv_1,x).subs(x,0)\n",
    "\n",
    "m=8\n",
    "for i in range(0,m+1):\n",
    "    deriv_2 = deriv_2.subs(f(point(i,8,h)),taylor(point(i,8,h),10))\n",
    "simplify(deriv_2)"
   ]
  },
  {
   "cell_type": "code",
   "execution_count": 10,
   "metadata": {},
   "outputs": [
    {
     "data": {
      "text/latex": [
       "$\\displaystyle \\left. \\frac{d}{d x} g{\\left(x \\right)} \\right|_{\\substack{ x=0 }} - \\frac{h^{8} \\left. \\frac{d^{9}}{d x^{9}} g{\\left(x \\right)} \\right|_{\\substack{ x=0 }}}{630} + O\\left(h^{9}\\right)$"
      ],
      "text/plain": [
       "Subs(Derivative(g(_x), _x), _x, 0) - h**8*Subs(Derivative(g(_x), (_x, 9)), _x, 0)/630 + O(h**9)"
      ]
     },
     "execution_count": 10,
     "metadata": {},
     "output_type": "execute_result"
    }
   ],
   "source": [
    "deriv_1 = diff(Q,x).subs(x,0)\n",
    "\n",
    "for i in range(0,m+1):\n",
    "    deriv_1 = deriv_1.subs(f(point(i,8,h)),taylor(point(i,8,h),10))\n",
    "simplify(deriv_1)"
   ]
  },
  {
   "cell_type": "code",
   "execution_count": 11,
   "metadata": {},
   "outputs": [
    {
     "name": "stdout",
     "output_type": "stream",
     "text": [
      "minimum is at h =  0.0296599232993652\n",
      "value at minimum:  8.42214519637707e-15\n"
     ]
    }
   ],
   "source": [
    "eps = Symbol('eps')\n",
    "s = solve(((h**8)/640 + eps/h).diff(h),h)[0]\n",
    "eps_mach = (7/3) - (4/3) - 1  ### machine precision ##\n",
    "print('minimum is at h = ', N(s.subs(eps,eps_mach)))\n",
    "v = ((h**8/640 + eps/h).subs(h,s).subs(eps,eps_mach))\n",
    "print('value at minimum: ',N(v))\n"
   ]
  }
 ],
 "metadata": {
  "kernelspec": {
   "display_name": "Python 3",
   "language": "python",
   "name": "python3"
  },
  "language_info": {
   "codemirror_mode": {
    "name": "ipython",
    "version": 3
   },
   "file_extension": ".py",
   "mimetype": "text/x-python",
   "name": "python",
   "nbconvert_exporter": "python",
   "pygments_lexer": "ipython3",
   "version": "3.6.8"
  }
 },
 "nbformat": 4,
 "nbformat_minor": 2
}
