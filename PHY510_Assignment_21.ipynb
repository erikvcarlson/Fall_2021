{
 "cells": [
  {
   "cell_type": "code",
   "execution_count": 1,
   "metadata": {},
   "outputs": [],
   "source": [
    "import numpy as np\n",
    "def pdf(x,a=0,b=2): \n",
    "    return a + b*x\n",
    "\n",
    "def sample(function, xmin, xmax, ymax):\n",
    "    while True:\n",
    "        #we use a uniform distribution to map the distribution defined by the function\n",
    "        x = np.random.uniform(low=xmin, high=xmax)\n",
    "        y = np.random.uniform(low=0, high=ymax)\n",
    "        if y < function(x):\n",
    "            return x\n"
   ]
  },
  {
   "cell_type": "code",
   "execution_count": 10,
   "metadata": {},
   "outputs": [
    {
     "data": {
      "image/png": "[encoded data removed]",
      "text/plain": [
       "<Figure size 432x288 with 1 Axes>"
      ]
     },
     "metadata": {
      "needs_background": "light"
     },
     "output_type": "display_data"
    }
   ],
   "source": [
    "import matplotlib.pyplot as plt\n",
    "num_samples = 50000\n",
    "a = np.zeros([num_samples,1])\n",
    "for i in range(0,len(a)):\n",
    "    a[i] = sample(pdf, 0, 1, pdf(1))\n",
    "    \n",
    "g = plt.hist(a,density=True,bins=50)\n",
    "plt.show()"
   ]
  },
  {
   "cell_type": "code",
   "execution_count": 11,
   "metadata": {},
   "outputs": [],
   "source": [
    "#the integral of an arbit linear equation is \n",
    "def F(x,a=0,b=2,c=0):\n",
    "    return b*x**2*1/2 + a*x + c\n",
    "#solving the above equation for x\n",
    "def F_for_x(y,a=0,b=2,c=0):\n",
    "    return ((a + np.sqrt(a**2 - 2*b*c + 2*b*y)/b))"
   ]
  },
  {
   "cell_type": "code",
   "execution_count": 12,
   "metadata": {},
   "outputs": [
    {
     "data": {
      "text/plain": [
       "(array([0.10200844, 0.29620526, 0.51384999, 0.70965009, 0.92068131,\n",
       "        1.1142769 , 1.28883359, 1.49244965, 1.67722723, 1.90529325]),\n",
       " array([0.00203644, 0.1018321 , 0.20162776, 0.30142342, 0.40121908,\n",
       "        0.50101474, 0.6008104 , 0.70060607, 0.80040173, 0.90019739,\n",
       "        0.99999305]),\n",
       " <a list of 10 Patch objects>)"
      ]
     },
     "execution_count": 12,
     "metadata": {},
     "output_type": "execute_result"
    },
    {
     "data": {
      "image/png": "[encoded data removed]",
      "text/plain": [
       "<Figure size 432x288 with 1 Axes>"
      ]
     },
     "metadata": {
      "needs_background": "light"
     },
     "output_type": "display_data"
    }
   ],
   "source": [
    "#we can transform a uniform sample to the pdf in question \n",
    "a = np.random.uniform(size=50000)\n",
    "b = F_for_x(a)\n",
    "\n",
    "plt.hist(b,density=True)"
   ]
  }
 ],
 "metadata": {
  "kernelspec": {
   "display_name": "Python 3",
   "language": "python",
   "name": "python3"
  },
  "language_info": {
   "codemirror_mode": {
    "name": "ipython",
    "version": 3
   },
   "file_extension": ".py",
   "mimetype": "text/x-python",
   "name": "python",
   "nbconvert_exporter": "python",
   "pygments_lexer": "ipython3",
   "version": "3.6.8"
  }
 },
 "nbformat": 4,
 "nbformat_minor": 2
}
