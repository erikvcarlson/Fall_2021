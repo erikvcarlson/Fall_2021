{
 "cells": [
  {
   "cell_type": "code",
   "execution_count": 1,
   "metadata": {},
   "outputs": [
    {
     "data": {
      "text/html": [
       "<div>\n",
       "<style scoped>\n",
       "    .dataframe tbody tr th:only-of-type {\n",
       "        vertical-align: middle;\n",
       "    }\n",
       "\n",
       "    .dataframe tbody tr th {\n",
       "        vertical-align: top;\n",
       "    }\n",
       "\n",
       "    .dataframe thead th {\n",
       "        text-align: right;\n",
       "    }\n",
       "</style>\n",
       "<table border=\"1\" class=\"dataframe\">\n",
       "  <thead>\n",
       "    <tr style=\"text-align: right;\">\n",
       "      <th></th>\n",
       "      <th>previous x</th>\n",
       "      <th>new x</th>\n",
       "    </tr>\n",
       "  </thead>\n",
       "  <tbody>\n",
       "    <tr>\n",
       "      <th>0</th>\n",
       "      <td>0.100000</td>\n",
       "      <td>10.050000</td>\n",
       "    </tr>\n",
       "    <tr>\n",
       "      <th>1</th>\n",
       "      <td>10.050000</td>\n",
       "      <td>5.124502</td>\n",
       "    </tr>\n",
       "    <tr>\n",
       "      <th>2</th>\n",
       "      <td>5.124502</td>\n",
       "      <td>2.757392</td>\n",
       "    </tr>\n",
       "    <tr>\n",
       "      <th>3</th>\n",
       "      <td>2.757392</td>\n",
       "      <td>1.741358</td>\n",
       "    </tr>\n",
       "    <tr>\n",
       "      <th>4</th>\n",
       "      <td>1.741358</td>\n",
       "      <td>1.444943</td>\n",
       "    </tr>\n",
       "    <tr>\n",
       "      <th>5</th>\n",
       "      <td>1.444943</td>\n",
       "      <td>1.414540</td>\n",
       "    </tr>\n",
       "    <tr>\n",
       "      <th>6</th>\n",
       "      <td>1.414540</td>\n",
       "      <td>1.414214</td>\n",
       "    </tr>\n",
       "    <tr>\n",
       "      <th>7</th>\n",
       "      <td>1.414214</td>\n",
       "      <td>1.414214</td>\n",
       "    </tr>\n",
       "    <tr>\n",
       "      <th>8</th>\n",
       "      <td>1.414214</td>\n",
       "      <td>1.414214</td>\n",
       "    </tr>\n",
       "    <tr>\n",
       "      <th>9</th>\n",
       "      <td>1.414214</td>\n",
       "      <td>1.414214</td>\n",
       "    </tr>\n",
       "  </tbody>\n",
       "</table>\n",
       "</div>"
      ],
      "text/plain": [
       "   previous x      new x\n",
       "0    0.100000  10.050000\n",
       "1   10.050000   5.124502\n",
       "2    5.124502   2.757392\n",
       "3    2.757392   1.741358\n",
       "4    1.741358   1.444943\n",
       "5    1.444943   1.414540\n",
       "6    1.414540   1.414214\n",
       "7    1.414214   1.414214\n",
       "8    1.414214   1.414214\n",
       "9    1.414214   1.414214"
      ]
     },
     "execution_count": 1,
     "metadata": {},
     "output_type": "execute_result"
    }
   ],
   "source": [
    "#start of the numerical methods\n",
    "import numpy as np\n",
    "import random \n",
    "import math\n",
    "import pandas as pd\n",
    "import mpmath as mp\n",
    "import matplotlib as plt\n",
    "\n",
    "\n",
    "#example from eqn 2.10 \n",
    "#not assigned just testing recursion \n",
    "x = 0.1 #inital x\n",
    "c = 1\n",
    "prevx = [];\n",
    "xmat = [];\n",
    "for i in range(0,1000):\n",
    "    prevx.append(x)\n",
    "    x = 1/2 * x + c/x\n",
    "    xmat.append(x)\n",
    "\n",
    "    \n",
    "a = list(zip(prevx,xmat))\n",
    "df = pd.DataFrame(a,columns=['previous x',\n",
    "                            'new x'])\n",
    "df.plot.scatter(x='previous x', y='new x')\n",
    "\n",
    "df.head(10)"
   ]
  },
  {
   "cell_type": "code",
   "execution_count": 2,
   "metadata": {},
   "outputs": [],
   "source": [
    "def g1(x,a):\n",
    "    return( 1 + a*(x - 1))\n",
    "\n",
    "def g2(x,a):\n",
    "    return( 1 + a*(x - 1))\n",
    "\n",
    "def g3(x,a):\n",
    "     return (x + a/x)/2"
   ]
  },
  {
   "cell_type": "code",
   "execution_count": 3,
   "metadata": {},
   "outputs": [],
   "source": [
    " def sequence(g, a, x0, n):\n",
    "    #g is the function number as defined by the number after the g in the function header\n",
    "    #a is a float \n",
    "    #x0 is a float\n",
    "    #n is an int for the number of points generated\n",
    "    #sample: sequence(1,0.5,5,1000)\n",
    "        \n",
    "    prevx = [];\n",
    "    xmat = [];\n",
    "    x = x0\n",
    "    for i in range(0,n):\n",
    "        prevx.append(x)\n",
    "        if g == 1:\n",
    "            g_value = g1(x,a)\n",
    "        elif g ==2:\n",
    "            g_value = g2(x,a)\n",
    "        elif g==3: \n",
    "            g_value = g3(x,a)\n",
    "        xmat.append(g_value)\n",
    "        x = g_value\n",
    "    b = list(zip(prevx,xmat))\n",
    "    df = pd.DataFrame(b,columns=['previous x',\n",
    "                            'new x'])\n",
    "    df.plot.scatter(x='previous x', y='new x')\n",
    "\n",
    "    print(df.head(10))\n",
    "    return\n",
    "        \n",
    "        \n",
    "        "
   ]
  },
  {
   "cell_type": "code",
   "execution_count": 4,
   "metadata": {},
   "outputs": [
    {
     "name": "stdout",
     "output_type": "stream",
     "text": [
      "   previous x     new x\n",
      "0    0.606284  0.566913\n",
      "1    0.566913  0.523604\n",
      "2    0.523604  0.475964\n",
      "3    0.475964  0.423561\n",
      "4    0.423561  0.365917\n",
      "5    0.365917  0.302509\n",
      "6    0.302509  0.232759\n",
      "7    0.232759  0.156035\n",
      "8    0.156035  0.071639\n",
      "9    0.071639 -0.021197\n",
      "   previous x     new x\n",
      "0    0.849471  0.984947\n",
      "1    0.984947  0.998495\n",
      "2    0.998495  0.999849\n",
      "3    0.999849  0.999985\n",
      "4    0.999985  0.999998\n",
      "5    0.999998  1.000000\n",
      "6    1.000000  1.000000\n",
      "7    1.000000  1.000000\n",
      "8    1.000000  1.000000\n",
      "9    1.000000  1.000000\n",
      "   previous x     new x\n",
      "0    5.344634  3.514283\n",
      "1    3.514283  3.037630\n",
      "2    3.037630  3.000233\n",
      "3    3.000233  3.000000\n",
      "4    3.000000  3.000000\n",
      "5    3.000000  3.000000\n",
      "6    3.000000  3.000000\n",
      "7    3.000000  3.000000\n",
      "8    3.000000  3.000000\n",
      "9    3.000000  3.000000\n"
     ]
    },
    {
     "data": {
      "image/png": "[encoded data removed]",
      "text/plain": [
       "<Figure size 432x288 with 1 Axes>"
      ]
     },
     "metadata": {
      "needs_background": "light"
     },
     "output_type": "display_data"
    },
    {
     "data": {
      "image/png": "[encoded data removed]",
      "text/plain": [
       "<Figure size 432x288 with 1 Axes>"
      ]
     },
     "metadata": {
      "needs_background": "light"
     },
     "output_type": "display_data"
    },
    {
     "data": {
      "image/png": "[encoded data removed]",
      "text/plain": [
       "<Figure size 432x288 with 1 Axes>"
      ]
     },
     "metadata": {
      "needs_background": "light"
     },
     "output_type": "display_data"
    }
   ],
   "source": [
    "sequence(2,1.1,random.random(), 1000)\n",
    "sequence(1,0.1,random.random(), 10)\n",
    "sequence(3,9,random.random()*10, 10)\n",
    "\n",
    "    "
   ]
  },
  {
   "cell_type": "code",
   "execution_count": null,
   "metadata": {},
   "outputs": [],
   "source": []
  },
  {
   "cell_type": "code",
   "execution_count": null,
   "metadata": {},
   "outputs": [],
   "source": []
  }
 ],
 "metadata": {
  "kernelspec": {
   "display_name": "Python 3",
   "language": "python",
   "name": "python3"
  },
  "language_info": {
   "codemirror_mode": {
    "name": "ipython",
    "version": 3
   },
   "file_extension": ".py",
   "mimetype": "text/x-python",
   "name": "python",
   "nbconvert_exporter": "python",
   "pygments_lexer": "ipython3",
   "version": "3.6.8"
  }
 },
 "nbformat": 4,
 "nbformat_minor": 5
}
