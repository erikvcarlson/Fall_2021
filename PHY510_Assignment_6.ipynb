{
 "cells": [
  {
   "cell_type": "code",
   "execution_count": 1,
   "id": "a974894d",
   "metadata": {},
   "outputs": [
    {
     "data": {
      "text/html": [
       "<div>\n",
       "<style scoped>\n",
       "    .dataframe tbody tr th:only-of-type {\n",
       "        vertical-align: middle;\n",
       "    }\n",
       "\n",
       "    .dataframe tbody tr th {\n",
       "        vertical-align: top;\n",
       "    }\n",
       "\n",
       "    .dataframe thead th {\n",
       "        text-align: right;\n",
       "    }\n",
       "</style>\n",
       "<table border=\"1\" class=\"dataframe\">\n",
       "  <thead>\n",
       "    <tr style=\"text-align: right;\">\n",
       "      <th></th>\n",
       "      <th>previous x</th>\n",
       "      <th>new x</th>\n",
       "    </tr>\n",
       "  </thead>\n",
       "  <tbody>\n",
       "    <tr>\n",
       "      <th>0</th>\n",
       "      <td>0.100000</td>\n",
       "      <td>10.050000</td>\n",
       "    </tr>\n",
       "    <tr>\n",
       "      <th>1</th>\n",
       "      <td>10.050000</td>\n",
       "      <td>5.124502</td>\n",
       "    </tr>\n",
       "    <tr>\n",
       "      <th>2</th>\n",
       "      <td>5.124502</td>\n",
       "      <td>2.757392</td>\n",
       "    </tr>\n",
       "    <tr>\n",
       "      <th>3</th>\n",
       "      <td>2.757392</td>\n",
       "      <td>1.741358</td>\n",
       "    </tr>\n",
       "    <tr>\n",
       "      <th>4</th>\n",
       "      <td>1.741358</td>\n",
       "      <td>1.444943</td>\n",
       "    </tr>\n",
       "    <tr>\n",
       "      <th>5</th>\n",
       "      <td>1.444943</td>\n",
       "      <td>1.414540</td>\n",
       "    </tr>\n",
       "    <tr>\n",
       "      <th>6</th>\n",
       "      <td>1.414540</td>\n",
       "      <td>1.414214</td>\n",
       "    </tr>\n",
       "    <tr>\n",
       "      <th>7</th>\n",
       "      <td>1.414214</td>\n",
       "      <td>1.414214</td>\n",
       "    </tr>\n",
       "    <tr>\n",
       "      <th>8</th>\n",
       "      <td>1.414214</td>\n",
       "      <td>1.414214</td>\n",
       "    </tr>\n",
       "    <tr>\n",
       "      <th>9</th>\n",
       "      <td>1.414214</td>\n",
       "      <td>1.414214</td>\n",
       "    </tr>\n",
       "  </tbody>\n",
       "</table>\n",
       "</div>"
      ],
      "text/plain": [
       "   previous x      new x\n",
       "0    0.100000  10.050000\n",
       "1   10.050000   5.124502\n",
       "2    5.124502   2.757392\n",
       "3    2.757392   1.741358\n",
       "4    1.741358   1.444943\n",
       "5    1.444943   1.414540\n",
       "6    1.414540   1.414214\n",
       "7    1.414214   1.414214\n",
       "8    1.414214   1.414214\n",
       "9    1.414214   1.414214"
      ]
     },
     "execution_count": 1,
     "metadata": {},
     "output_type": "execute_result"
    },
    {
     "data": {
      "image/png": "[encoded data removed]",
      "text/plain": [
       "<Figure size 432x288 with 1 Axes>"
      ]
     },
     "metadata": {
      "needs_background": "light"
     },
     "output_type": "display_data"
    }
   ],
   "source": [
    "#start of the numerical methods\n",
    "import numpy as np\n",
    "import random \n",
    "import math\n",
    "import pandas as pd\n",
    "import mpmath as mp\n",
    "import matplotlib as plt\n",
    "\n",
    "x = 0.1 #inital x\n",
    "c = 1\n",
    "prevx = [];\n",
    "xmat = [];\n",
    "for i in range(0,1000):\n",
    "    prevx.append(x)\n",
    "    x = 1/2 * x + c/x\n",
    "    xmat.append(x)\n",
    "\n",
    "    \n",
    "a = list(zip(prevx,xmat))\n",
    "df = pd.DataFrame(a,columns=['previous x',\n",
    "                            'new x'])\n",
    "df.plot.scatter(x='previous x', y='new x')\n",
    "\n",
    "df.head(10)"
   ]
  },
  {
   "cell_type": "code",
   "execution_count": 2,
   "id": "330374a9",
   "metadata": {},
   "outputs": [],
   "source": [
    "def g1(x,a):\n",
    "    return( 1 + a*(x - 1))\n",
    "\n",
    "def g2(x,a):\n",
    "    return( 1 + a*(x - 1))\n",
    "\n",
    "def g3(x,a):\n",
    "     return (x + a/x)/2"
   ]
  },
  {
   "cell_type": "code",
   "execution_count": 3,
   "id": "e9302d44",
   "metadata": {},
   "outputs": [],
   "source": [
    " def sequence(g, a, x0, n):\n",
    "    #g is the function number as defined by the number after the g in the function header\n",
    "    #a is a float \n",
    "    #x0 is a float\n",
    "    #n is an int for the number of points generated\n",
    "    #sample: sequence(1,0.5,5,1000)\n",
    "        \n",
    "    prevx = [];\n",
    "    xmat = [];\n",
    "    x = x0\n",
    "    for i in range(0,n):\n",
    "        prevx.append(x)\n",
    "        if g == 1:\n",
    "            g_value = g1(x,a)\n",
    "        elif g ==2:\n",
    "            g_value = g2(x,a)\n",
    "        elif g==3: \n",
    "            g_value = g3(x,a)\n",
    "        xmat.append(g_value)\n",
    "        x = g_value\n",
    "    b = list(zip(prevx,xmat))\n",
    "    df = pd.DataFrame(b,columns=['previous x',\n",
    "                            'new x'])\n",
    "    df.plot.scatter(x='previous x', y='new x')\n",
    "\n",
    "    print(df.head(10))\n",
    "    return\n",
    "        \n",
    "        \n",
    "        "
   ]
  },
  {
   "cell_type": "code",
   "execution_count": 5,
   "id": "142756cb",
   "metadata": {},
   "outputs": [
    {
     "name": "stdout",
     "output_type": "stream",
     "text": [
      "   previous x     new x\n",
      "0    0.069443 -0.023613\n",
      "1   -0.023613 -0.125975\n",
      "2   -0.125975 -0.238572\n",
      "3   -0.238572 -0.362429\n",
      "4   -0.362429 -0.498672\n",
      "5   -0.498672 -0.648539\n",
      "6   -0.648539 -0.813393\n",
      "7   -0.813393 -0.994733\n",
      "8   -0.994733 -1.194206\n",
      "9   -1.194206 -1.413626\n",
      "   previous x     new x\n",
      "0    0.289143  0.928914\n",
      "1    0.928914  0.992891\n",
      "2    0.992891  0.999289\n",
      "3    0.999289  0.999929\n",
      "4    0.999929  0.999993\n",
      "5    0.999993  0.999999\n",
      "6    0.999999  1.000000\n",
      "7    1.000000  1.000000\n",
      "8    1.000000  1.000000\n",
      "9    1.000000  1.000000\n",
      "   previous x     new x\n",
      "0    8.857006  4.936575\n",
      "1    4.936575  3.379851\n",
      "2    3.379851  3.021345\n",
      "3    3.021345  3.000075\n",
      "4    3.000075  3.000000\n",
      "5    3.000000  3.000000\n",
      "6    3.000000  3.000000\n",
      "7    3.000000  3.000000\n",
      "8    3.000000  3.000000\n",
      "9    3.000000  3.000000\n"
     ]
    },
    {
     "data": {
      "image/png": "[encoded data removed]",
      "text/plain": [
       "<Figure size 432x288 with 1 Axes>"
      ]
     },
     "metadata": {
      "needs_background": "light"
     },
     "output_type": "display_data"
    },
    {
     "data": {
      "image/png": "[encoded data removed]",
      "text/plain": [
       "<Figure size 432x288 with 1 Axes>"
      ]
     },
     "metadata": {
      "needs_background": "light"
     },
     "output_type": "display_data"
    },
    {
     "data": {
      "image/png": "[encoded data removed]",
      "text/plain": [
       "<Figure size 432x288 with 1 Axes>"
      ]
     },
     "metadata": {
      "needs_background": "light"
     },
     "output_type": "display_data"
    }
   ],
   "source": [
    "sequence(2,1.1,random.random(), 1000)\n",
    "sequence(1,0.1,random.random(), 10)\n",
    "sequence(3,9,random.random()*10, 10)\n",
    "\n",
    "    "
   ]
  },
  {
   "cell_type": "code",
   "execution_count": null,
   "id": "d8ec0b15",
   "metadata": {},
   "outputs": [],
   "source": []
  },
  {
   "cell_type": "code",
   "execution_count": null,
   "id": "e49c0e68",
   "metadata": {},
   "outputs": [],
   "source": []
  }
 ],
 "metadata": {
  "kernelspec": {
   "display_name": "Python 3 (ipykernel)",
   "language": "python",
   "name": "python3"
  },
  "language_info": {
   "codemirror_mode": {
    "name": "ipython",
    "version": 3
   },
   "file_extension": ".py",
   "mimetype": "text/x-python",
   "name": "python",
   "nbconvert_exporter": "python",
   "pygments_lexer": "ipython3",
   "version": "3.9.7"
  }
 },
 "nbformat": 4,
 "nbformat_minor": 5
}
