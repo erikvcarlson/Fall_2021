{
 "cells": [
  {
   "cell_type": "code",
   "execution_count": 1,
   "id": "513fa716",
   "metadata": {},
   "outputs": [],
   "source": [
    "import numpy as np\n",
    "import random \n",
    "import math\n",
    "import pandas as pd\n",
    "import mpmath as mp\n"
   ]
  },
  {
   "cell_type": "code",
   "execution_count": 2,
   "id": "50d6166c",
   "metadata": {},
   "outputs": [
    {
     "name": "stdout",
     "output_type": "stream",
     "text": [
      "Using this method, we are able to use: 14 negative powers of 2 until the value of 1 is reached. \n"
     ]
    }
   ],
   "source": [
    "mp.mp.dps = 3\n",
    "x = 1.000\n",
    "y=0.0001\n",
    "\n",
    "\n",
    "\n",
    "a = mp.mpf(0)\n",
    "counter = -1\n",
    "while a != 1:\n",
    "    a = mp.mpf(2**counter + 1)\n",
    "    counter = counter -1\n",
    "\n",
    "print('Using this method, we are able to use: ' + str(abs(counter)) + ' negative powers of 2 until the value of 1 is reached. ')\n",
    "\n",
    "\n"
   ]
  },
  {
   "cell_type": "code",
   "execution_count": 9,
   "id": "6da68c67",
   "metadata": {},
   "outputs": [
    {
     "name": "stdout",
     "output_type": "stream",
     "text": [
      "0.000244\n"
     ]
    }
   ],
   "source": [
    "#7/3 and 4/3 are repeating values \n",
    "e = mp.mp.mpf(7/3) - mp.mp.mpf(4/3) -mp.mp.mpf(1)\n",
    "print(e)"
   ]
  },
  {
   "cell_type": "code",
   "execution_count": 4,
   "id": "0783cd78",
   "metadata": {},
   "outputs": [
    {
     "data": {
      "text/plain": [
       "mpf('0.0')"
      ]
     },
     "execution_count": 4,
     "metadata": {},
     "output_type": "execute_result"
    }
   ],
   "source": [
    "#7/4 and 3/4 are terminal values\n",
    "mp.mp.mpf(7/4) - mp.mp.mpf(3/4) -mp.mp.mpf(1)"
   ]
  },
  {
   "cell_type": "code",
   "execution_count": 5,
   "id": "c266bab7",
   "metadata": {},
   "outputs": [
    {
     "data": {
      "text/plain": [
       "1.75"
      ]
     },
     "execution_count": 5,
     "metadata": {},
     "output_type": "execute_result"
    }
   ],
   "source": [
    "7/4"
   ]
  },
  {
   "cell_type": "code",
   "execution_count": 6,
   "id": "e4919790",
   "metadata": {},
   "outputs": [
    {
     "data": {
      "text/plain": [
       "2.3333333333333335"
      ]
     },
     "execution_count": 6,
     "metadata": {},
     "output_type": "execute_result"
    }
   ],
   "source": [
    "7/3"
   ]
  },
  {
   "cell_type": "code",
   "execution_count": 7,
   "id": "273b2852",
   "metadata": {},
   "outputs": [
    {
     "data": {
      "text/plain": [
       "0.75"
      ]
     },
     "execution_count": 7,
     "metadata": {},
     "output_type": "execute_result"
    }
   ],
   "source": [
    "3/4"
   ]
  },
  {
   "cell_type": "code",
   "execution_count": 10,
   "id": "a7427edd",
   "metadata": {},
   "outputs": [
    {
     "data": {
      "text/plain": [
       "True"
      ]
     },
     "execution_count": 10,
     "metadata": {},
     "output_type": "execute_result"
    }
   ],
   "source": [
    "(1+ 0.5*e) + 0.5*e != 1+ (0.5*e + 0.5*e) "
   ]
  },
  {
   "cell_type": "code",
   "execution_count": null,
   "id": "9dfc41a3",
   "metadata": {},
   "outputs": [],
   "source": []
  }
 ],
 "metadata": {
  "kernelspec": {
   "display_name": "Python 3 (ipykernel)",
   "language": "python",
   "name": "python3"
  },
  "language_info": {
   "codemirror_mode": {
    "name": "ipython",
    "version": 3
   },
   "file_extension": ".py",
   "mimetype": "text/x-python",
   "name": "python",
   "nbconvert_exporter": "python",
   "pygments_lexer": "ipython3",
   "version": "3.9.7"
  }
 },
 "nbformat": 4,
 "nbformat_minor": 5
}
