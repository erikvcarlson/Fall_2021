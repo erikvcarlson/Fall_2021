{
 "cells": [
  {
   "cell_type": "code",
   "execution_count": 1,
   "metadata": {},
   "outputs": [],
   "source": [
    "import numpy as np\n",
    "n = 10\n",
    "A = np.random.random([n,n]) + 1j * np.random.random([n,n])\n",
    "A = A + A.conj().T\n",
    "evalA, evecA = np.linalg.eigh(A)"
   ]
  },
  {
   "cell_type": "code",
   "execution_count": 2,
   "metadata": {},
   "outputs": [],
   "source": [
    "B = A[1:len(A),1:len(A)]\n",
    "evalB, evecB = np.linalg.eigh(B)"
   ]
  },
  {
   "cell_type": "code",
   "execution_count": 3,
   "metadata": {},
   "outputs": [
    {
     "name": "stdout",
     "output_type": "stream",
     "text": [
      "[1. 1. 1. 1. 1. 1. 1. 1. 1.]\n"
     ]
    }
   ],
   "source": [
    "sorted_A = np.sort(evalA)\n",
    "sorted_B = np.sort(evalB)\n",
    "boolean_mat = np.zeros([n-1])\n",
    "for i in range(0,len(evalB)):\n",
    "    if sorted_B[i] > sorted_A[i] and  sorted_B[i] < sorted_A[i + 1]:\n",
    "        boolean_mat[i] = True\n",
    "\n",
    "print(boolean_mat)"
   ]
  }
 ],
 "metadata": {
  "kernelspec": {
   "display_name": "Python 3",
   "language": "python",
   "name": "python3"
  },
  "language_info": {
   "codemirror_mode": {
    "name": "ipython",
    "version": 3
   },
   "file_extension": ".py",
   "mimetype": "text/x-python",
   "name": "python",
   "nbconvert_exporter": "python",
   "pygments_lexer": "ipython3",
   "version": "3.6.8"
  }
 },
 "nbformat": 4,
 "nbformat_minor": 2
}
