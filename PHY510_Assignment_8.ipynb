{
 "cells": [
  {
   "cell_type": "code",
   "execution_count": 1,
   "metadata": {},
   "outputs": [],
   "source": [
    "def Fibonacci(n):\n",
    "    if n == 1:\n",
    "        return 1\n",
    "    # Second Fibonacci number is 1\n",
    "    elif n == 2:\n",
    "        return 1\n",
    "    else:\n",
    "        return Fibonacci(n-1)+Fibonacci(n-2)\n",
    "    \n",
    "def Fibonacci_Ratio(n):\n",
    "    if n == 1: \n",
    "        return 1\n",
    "    elif n == 2: \n",
    "        return 1 \n",
    "    else: \n",
    "        return Fibonacci(n)/Fibonacci(n-1)"
   ]
  },
  {
   "cell_type": "code",
   "execution_count": 2,
   "metadata": {},
   "outputs": [
    {
     "name": "stdout",
     "output_type": "stream",
     "text": [
      "How many values should be displayed? 1\n",
      "The 1th Fibobacci Number is: 1\n",
      "The ratio between the 1th and the 0th Fibobacci Number is: 1.000000e+00\n"
     ]
    }
   ],
   "source": [
    "#I do not think I am doing this problem correctly\n",
    "\n",
    "num_seq = int(input(\"How many values should be displayed? \"))\n",
    "\n",
    "for i in range(0,num_seq):\n",
    "    print('The ' + str(num_seq+i)+'th Fibobacci Number is: ' +  str(Fibonacci(num_seq+i))) \n",
    "    print('The ratio between the ' + str(num_seq+i)+'th and the '+ str(num_seq+i -1) +'th Fibobacci Number is: ' + \"{:e}\".format(round(Fibonacci_Ratio(num_seq+i),5))) \n",
    "    \n",
    "    \n",
    "    \n",
    "\n"
   ]
  },
  {
   "cell_type": "code",
   "execution_count": 3,
   "metadata": {},
   "outputs": [
    {
     "data": {
      "text/plain": [
       "1.6176470588235294"
      ]
     },
     "execution_count": 3,
     "metadata": {},
     "output_type": "execute_result"
    }
   ],
   "source": [
    "Fibonacci_Ratio(10)"
   ]
  },
  {
   "cell_type": "code",
   "execution_count": 4,
   "metadata": {},
   "outputs": [
    {
     "name": "stdout",
     "output_type": "stream",
     "text": [
      "The 2th fibbonanci number is: 1\n",
      "The 3th fibbonanci number is: 2\n",
      "The 4th fibbonanci number is: 3\n",
      "The 5th fibbonanci number is: 5\n",
      "The 6th fibbonanci number is: 8\n",
      "The 7th fibbonanci number is: 13\n",
      "The 8th fibbonanci number is: 21\n",
      "The 9th fibbonanci number is: 34\n",
      "The 10th fibbonanci number is: 55\n",
      "The 11th fibbonanci number is: 89\n",
      "The 12th fibbonanci number is: 144\n",
      "The 13th fibbonanci number is: 233\n",
      "The 14th fibbonanci number is: 377\n",
      "The 15th fibbonanci number is: 610\n",
      "The 16th fibbonanci number is: 987\n",
      "The 17th fibbonanci number is: 1597\n",
      "The 18th fibbonanci number is: 2584\n",
      "The 19th fibbonanci number is: 4181\n",
      "The 20th fibbonanci number is: 6765\n",
      "The 21th fibbonanci number is: 10946\n",
      "The 22th fibbonanci number is: 17711\n",
      "The 23th fibbonanci number is: 28657\n",
      "The 24th fibbonanci number is: 46368\n",
      "The 25th fibbonanci number is: 75025\n",
      "The 26th fibbonanci number is: 121393\n",
      "The 27th fibbonanci number is: 196418\n",
      "The 28th fibbonanci number is: 317811\n",
      "The 29th fibbonanci number is: 514229\n",
      "The 30th fibbonanci number is: 832040\n",
      "The 31th fibbonanci number is: 1346269\n",
      "The 32th fibbonanci number is: 2178309\n",
      "The 33th fibbonanci number is: 3524578\n",
      "The 34th fibbonanci number is: 5702887\n",
      "The 35th fibbonanci number is: 9227465\n",
      "The 36th fibbonanci number is: 14930352\n",
      "The 37th fibbonanci number is: 24157817\n",
      "The 38th fibbonanci number is: 39088169\n",
      "The 39th fibbonanci number is: 63245986\n",
      "The 40th fibbonanci number is: 102334155\n",
      "The 41th fibbonanci number is: 165580141\n",
      "The 42th fibbonanci number is: 267914296\n",
      "The 43th fibbonanci number is: 433494437\n",
      "The 44th fibbonanci number is: 701408733\n",
      "The 45th fibbonanci number is: 1134903170\n",
      "The 46th fibbonanci number is: 1836311903\n",
      "The 47th fibbonanci number is: 2971215073\n",
      "The 48th fibbonanci number is: 4807526976\n",
      "The 49th fibbonanci number is: 7778742049\n"
     ]
    }
   ],
   "source": [
    "from scipy.optimize import fsolve\n",
    "import numpy as np\n",
    "\n",
    "f = lambda x: x**2-1*x-1\n",
    "\n",
    "roots = fsolve(f, [-1, 1])\n",
    "\n",
    "A = [[roots[0]**1, roots[1]**1],[roots[0]**2, roots[1]**2]]\n",
    "A = np.array(A)\n",
    "inv_A = np.linalg.inv(A)\n",
    "\n",
    "B = np.array([1, 1])\n",
    "X = np.linalg.inv(A).dot(B)\n",
    "\n",
    "\n",
    "ratio_list = []\n",
    "for n in range(2,50):\n",
    "    \n",
    "    xn = int(round(X[0] * roots[0]**n + X[1] *roots[1]**n))\n",
    "\n",
    "    print(\"The \" + str(n) + \"th fibbonanci number is: \" + str(xn))\n",
    "\n",
    "    xn_m1 = int(round(X[0] * roots[0]**(n-1) + X[1] *roots[1]**(n-1)))\n",
    "\n",
    "    ratio = xn /xn_m1\n",
    "\n",
    "    ratio_list.append(ratio)\n",
    "\n",
    "\n",
    "\n",
    "\n",
    " "
   ]
  },
  {
   "cell_type": "code",
   "execution_count": 6,
   "metadata": {},
   "outputs": [
    {
     "data": {
      "image/png": "[encoded data removed]",
      "text/plain": [
       "<Figure size 432x288 with 1 Axes>"
      ]
     },
     "metadata": {
      "needs_background": "light"
     },
     "output_type": "display_data"
    }
   ],
   "source": [
    "import matplotlib.pyplot as plt\n",
    "import numpy as np\n",
    "\n",
    "a = np.ones(50-2) * 1.6180339887\n",
    "plt.plot(ratio_list)\n",
    "plt.plot(a,'--')\n",
    "plt.show()"
   ]
  },
  {
   "cell_type": "code",
   "execution_count": null,
   "metadata": {},
   "outputs": [],
   "source": [
    "\n",
    "\n"
   ]
  },
  {
   "cell_type": "code",
   "execution_count": null,
   "metadata": {},
   "outputs": [],
   "source": []
  }
 ],
 "metadata": {
  "kernelspec": {
   "display_name": "Python 3",
   "language": "python",
   "name": "python3"
  },
  "language_info": {
   "codemirror_mode": {
    "name": "ipython",
    "version": 3
   },
   "file_extension": ".py",
   "mimetype": "text/x-python",
   "name": "python",
   "nbconvert_exporter": "python",
   "pygments_lexer": "ipython3",
   "version": "3.6.8"
  }
 },
 "nbformat": 4,
 "nbformat_minor": 2
}
