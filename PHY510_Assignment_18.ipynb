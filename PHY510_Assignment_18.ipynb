{
 "cells": [
  {
   "cell_type": "code",
   "execution_count": 10,
   "metadata": {},
   "outputs": [],
   "source": [
    "import math \n",
    "import random\n",
    "import matplotlib.pyplot as plt\n",
    "import numpy as np\n",
    "\n",
    "random.seed('Erik Carlson')\n",
    "\n",
    "#define our function\n",
    "def f(x,a_list,m):\n",
    "    f_val = 0\n",
    "    \n",
    "    for k in range(0,m-1):\n",
    "        f_val += a_list[k] * x**k\n",
    "    \n",
    "    return f_val\n",
    "\n",
    "#generate a simple range matrix from 1 to m i.e m=4 [1, 2, 3, 4]\n",
    "def a_list_gen(m):\n",
    "    return range(1,m+1)\n",
    "\n",
    "#generate the value of a gaussian at a value of x\n",
    "def gaussian(x,mu,sigma):\n",
    "    g = 1/math.sqrt(2 *math.pi * sigma**2) * math.exp(-(x-mu)**2/(2 *sigma**2))\n",
    "    return g"
   ]
  },
  {
   "cell_type": "code",
   "execution_count": 11,
   "metadata": {},
   "outputs": [],
   "source": [
    "#init the number of point\n",
    "n = 250000\n",
    "#set the order of our polynomial\n",
    "m = 4\n",
    "xil = []\n",
    "fil = []\n",
    "for i in range(0,n):\n",
    "    xi = i/n\n",
    "    #generate the values of our function with an additional factor to include gaussian noise\n",
    "    fi = f(xi,a_list_gen(4),m)  + + float(np.random.normal(0,0.1,1))\n",
    "    xil.append(xi)\n",
    "    fil.append(fi)\n",
    "\n",
    "\n"
   ]
  },
  {
   "cell_type": "code",
   "execution_count": 12,
   "metadata": {},
   "outputs": [],
   "source": [
    "#Initalize our matrix A for the general least squares method\n",
    "A = np.zeros([n,m])\n",
    "for i in range(0,n):\n",
    "    for j in range(0,m):\n",
    "        A[i,j] = (i/n)**j\n",
    "        \n",
    "#create a column vector with our values of the function at f        \n",
    "y = np.array(fil)[:, np.newaxis]\n",
    "\n",
    "#find the coefficents of our polynomial to approximate our polynomial with gaussian noise\n",
    "alpha = np.dot((np.dot(np.linalg.pinv(np.dot(A.T,A)),A.T)),y)\n"
   ]
  },
  {
   "cell_type": "code",
   "execution_count": 14,
   "metadata": {},
   "outputs": [
    {
     "name": "stdout",
     "output_type": "stream",
     "text": [
      "[[ 1.0001529 ]\n",
      " [ 1.9949453 ]\n",
      " [ 3.01816955]\n",
      " [-0.01439639]]\n"
     ]
    },
    {
     "data": {
      "image/png": "[encoded data removed]",
      "text/plain": [
       "<Figure size 432x288 with 1 Axes>"
      ]
     },
     "metadata": {
      "needs_background": "light"
     },
     "output_type": "display_data"
    }
   ],
   "source": [
    "#our coefficents are printed below followed by a plot which shows our points with noise and the curve of best fit \n",
    "#given in alpha\n",
    "\n",
    "print(alpha)\n",
    "\n",
    "\n",
    "plt.scatter(xil,fil)\n",
    "x_arr = np.array(xil)\n",
    "plt.plot(xil, alpha[3]*x_arr**3 + alpha[2]*x_arr**2 + alpha[1]*x_arr + alpha[0], 'r')\n",
    "plt.show()"
   ]
  },
  {
   "cell_type": "code",
   "execution_count": 15,
   "metadata": {},
   "outputs": [],
   "source": [
    "#we can know approximate our error values for each value of our coefficent  \n",
    "from scipy.stats import chisquare\n",
    "approx =alpha[3]*x_arr**3 + alpha[2]*x_arr**2 + alpha[1]*x_arr + alpha[0]\n",
    "#we use a scipy chi^2 function using our approximate values and our noisy values\n",
    "chisq = chisquare(np.array(fil),approx)[0]/(n-m)\n",
    "\n",
    "c = chisq * np.linalg.inv(np.dot(A.T,A))"
   ]
  },
  {
   "cell_type": "code",
   "execution_count": 16,
   "metadata": {},
   "outputs": [
    {
     "name": "stdout",
     "output_type": "stream",
     "text": [
      "[2.79578386e-07 2.09686306e-05 1.13231763e-04 4.89276854e-05]\n"
     ]
    }
   ],
   "source": [
    "# our error will be the diagonal of that matrix\n",
    "error = np.diag(c)\n",
    "print(error)"
   ]
  },
  {
   "cell_type": "code",
   "execution_count": 17,
   "metadata": {},
   "outputs": [
    {
     "data": {
      "text/plain": [
       "2.544289964264115e-05"
      ]
     },
     "execution_count": 17,
     "metadata": {},
     "output_type": "execute_result"
    }
   ],
   "source": [
    "#standard error\n",
    "a0 = np.arange(1,5) \n",
    "np.dot(np.dot(a0,c),a0)\n"
   ]
  },
  {
   "cell_type": "code",
   "execution_count": 18,
   "metadata": {},
   "outputs": [
    {
     "data": {
      "text/plain": [
       "array([1.0001529 , 1.00016088, 1.00016886, ..., 5.9987755 , 5.99880746,\n",
       "       5.99883941])"
      ]
     },
     "execution_count": 18,
     "metadata": {},
     "output_type": "execute_result"
    }
   ],
   "source": [
    "approx"
   ]
  },
  {
   "cell_type": "code",
   "execution_count": null,
   "metadata": {},
   "outputs": [],
   "source": []
  }
 ],
 "metadata": {
  "kernelspec": {
   "display_name": "Python 3",
   "language": "python",
   "name": "python3"
  },
  "language_info": {
   "codemirror_mode": {
    "name": "ipython",
    "version": 3
   },
   "file_extension": ".py",
   "mimetype": "text/x-python",
   "name": "python",
   "nbconvert_exporter": "python",
   "pygments_lexer": "ipython3",
   "version": "3.6.8"
  }
 },
 "nbformat": 4,
 "nbformat_minor": 2
}
