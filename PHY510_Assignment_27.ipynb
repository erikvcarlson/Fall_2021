{
 "cells": [
  {
   "cell_type": "code",
   "execution_count": 9,
   "metadata": {},
   "outputs": [],
   "source": [
    "import numpy as np \n",
    "\n",
    "size_of_array = 4\n",
    "A = np.random.uniform(size = [size_of_array,size_of_array])\n",
    "Q = np.matmul(A,A.T)"
   ]
  },
  {
   "cell_type": "code",
   "execution_count": 10,
   "metadata": {},
   "outputs": [
    {
     "data": {
      "text/plain": [
       "array([[1.46916938, 1.83310226, 0.82223238, 1.28140937],\n",
       "       [1.83310226, 2.51631422, 1.25120437, 1.56069122],\n",
       "       [0.82223238, 1.25120437, 0.93782891, 0.68965693],\n",
       "       [1.28140937, 1.56069122, 0.68965693, 1.18121036]])"
      ]
     },
     "execution_count": 10,
     "metadata": {},
     "output_type": "execute_result"
    }
   ],
   "source": [
    "Q"
   ]
  },
  {
   "cell_type": "code",
   "execution_count": 11,
   "metadata": {},
   "outputs": [
    {
     "name": "stdout",
     "output_type": "stream",
     "text": [
      "Q is postive and definite for vector 0\n",
      "Q is postive and definite for vector 1\n",
      "Q is postive and definite for vector 2\n",
      "Q is postive and definite for vector 3\n"
     ]
    }
   ],
   "source": [
    "for i in range(size_of_array):\n",
    "    v = Q[:,i]\n",
    "    v_adjoint = np.conjugate(v.T)\n",
    "    holding = np.matmul(v_adjoint,Q)\n",
    "    final = np.matmul(holding,v)\n",
    "    if final < 0: \n",
    "        print(\"Error in Column \" + str(i) + \". Halting Execution.\")\n",
    "    else:\n",
    "        print(\"Q is postive and definite for vector \" + str(i))"
   ]
  },
  {
   "cell_type": "code",
   "execution_count": 12,
   "metadata": {},
   "outputs": [
    {
     "name": "stdout",
     "output_type": "stream",
     "text": [
      "The square root of matrix Q is: \n",
      "[[0.76388912 0.71042285 0.23638521 0.57014401]\n",
      " [0.71042285 1.21087991 0.4924534  0.55033905]\n",
      " [0.23638521 0.4924534  0.77681177 0.18974737]\n",
      " [0.57014401 0.55033905 0.18974737 0.71921419]]\n"
     ]
    }
   ],
   "source": [
    "evalQ, evecQ = np.linalg.eig(Q)\n",
    "a = np.matmul(evecQ,np.diag(evalQ)**0.5)\n",
    "g = np.matmul(a,np.linalg.inv(evecQ))\n",
    "\n",
    "print(\"The square root of matrix Q is: \")\n",
    "print(g)"
   ]
  },
  {
   "cell_type": "code",
   "execution_count": 15,
   "metadata": {},
   "outputs": [
    {
     "name": "stdout",
     "output_type": "stream",
     "text": [
      "11.5 µs ± 1.98 µs per loop (mean ± std. dev. of 7 runs, 100000 loops each)\n"
     ]
    }
   ],
   "source": [
    "%timeit evecQ * np.diag(evalQ)**0.5 * evecQ\n"
   ]
  },
  {
   "cell_type": "code",
   "execution_count": 16,
   "metadata": {},
   "outputs": [
    {
     "name": "stdout",
     "output_type": "stream",
     "text": [
      "11.2 µs ± 88.8 ns per loop (mean ± std. dev. of 7 runs, 100000 loops each)\n"
     ]
    }
   ],
   "source": [
    "%timeit evecQ @ np.diag(evalQ)**0.5 @ evecQ"
   ]
  },
  {
   "cell_type": "code",
   "execution_count": 17,
   "metadata": {},
   "outputs": [
    {
     "name": "stdout",
     "output_type": "stream",
     "text": [
      "11.1 µs ± 33.9 ns per loop (mean ± std. dev. of 7 runs, 100000 loops each)\n"
     ]
    }
   ],
   "source": [
    "%timeit np.matmul(np.matmul(evecQ,np.diag(evalQ)**0.5),evecQ)"
   ]
  },
  {
   "cell_type": "code",
   "execution_count": null,
   "metadata": {},
   "outputs": [],
   "source": []
  }
 ],
 "metadata": {
  "kernelspec": {
   "display_name": "Python 3",
   "language": "python",
   "name": "python3"
  },
  "language_info": {
   "codemirror_mode": {
    "name": "ipython",
    "version": 3
   },
   "file_extension": ".py",
   "mimetype": "text/x-python",
   "name": "python",
   "nbconvert_exporter": "python",
   "pygments_lexer": "ipython3",
   "version": "3.6.8"
  }
 },
 "nbformat": 4,
 "nbformat_minor": 2
}
