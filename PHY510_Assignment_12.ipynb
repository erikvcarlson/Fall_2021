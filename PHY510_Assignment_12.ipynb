{
 "cells": [
  {
   "cell_type": "code",
   "execution_count": 1,
   "metadata": {},
   "outputs": [],
   "source": [
    "import sympy as symp\n",
    "\n",
    "seq = [-1,2,23,86,215,434,767,1238,1871,2690]\n",
    "size = 10 \n",
    "table = symp.Matrix([[symp.nan for i in range(0,size)] for j in range(0,size)])\n",
    "table[0] = symp.Matrix([seq[i] for i in range(0,size)])\n",
    "\n",
    "\n",
    "for j in range(1,9):\n",
    "    for i in range(0,10-j):\n",
    "        table[i,j] = table[i+1,j-1] - table[i,j-1] \n"
   ]
  },
  {
   "cell_type": "code",
   "execution_count": 2,
   "metadata": {},
   "outputs": [
    {
     "data": {
      "text/latex": [
       "$\\displaystyle \\left[\\begin{matrix}-1 & 3 & 18 & 24 & 0 & 0 & 0 & 0 & 0 & \\text{NaN}\\\\2 & 21 & 42 & 24 & 0 & 0 & 0 & 0 & 0 & \\text{NaN}\\\\23 & 63 & 66 & 24 & 0 & 0 & 0 & 0 & \\text{NaN} & \\text{NaN}\\\\86 & 129 & 90 & 24 & 0 & 0 & 0 & \\text{NaN} & \\text{NaN} & \\text{NaN}\\\\215 & 219 & 114 & 24 & 0 & 0 & \\text{NaN} & \\text{NaN} & \\text{NaN} & \\text{NaN}\\\\434 & 333 & 138 & 24 & 0 & \\text{NaN} & \\text{NaN} & \\text{NaN} & \\text{NaN} & \\text{NaN}\\\\767 & 471 & 162 & 24 & \\text{NaN} & \\text{NaN} & \\text{NaN} & \\text{NaN} & \\text{NaN} & \\text{NaN}\\\\1238 & 633 & 186 & \\text{NaN} & \\text{NaN} & \\text{NaN} & \\text{NaN} & \\text{NaN} & \\text{NaN} & \\text{NaN}\\\\1871 & 819 & \\text{NaN} & \\text{NaN} & \\text{NaN} & \\text{NaN} & \\text{NaN} & \\text{NaN} & \\text{NaN} & \\text{NaN}\\\\2690 & \\text{NaN} & \\text{NaN} & \\text{NaN} & \\text{NaN} & \\text{NaN} & \\text{NaN} & \\text{NaN} & \\text{NaN} & \\text{NaN}\\end{matrix}\\right]$"
      ],
      "text/plain": [
       "Matrix([\n",
       "[  -1,   3,  18,  24,   0,   0,   0,   0,   0, nan],\n",
       "[   2,  21,  42,  24,   0,   0,   0,   0,   0, nan],\n",
       "[  23,  63,  66,  24,   0,   0,   0,   0, nan, nan],\n",
       "[  86, 129,  90,  24,   0,   0,   0, nan, nan, nan],\n",
       "[ 215, 219, 114,  24,   0,   0, nan, nan, nan, nan],\n",
       "[ 434, 333, 138,  24,   0, nan, nan, nan, nan, nan],\n",
       "[ 767, 471, 162,  24, nan, nan, nan, nan, nan, nan],\n",
       "[1238, 633, 186, nan, nan, nan, nan, nan, nan, nan],\n",
       "[1871, 819, nan, nan, nan, nan, nan, nan, nan, nan],\n",
       "[2690, nan, nan, nan, nan, nan, nan, nan, nan, nan]])"
      ]
     },
     "execution_count": 2,
     "metadata": {},
     "output_type": "execute_result"
    }
   ],
   "source": [
    "table"
   ]
  },
  {
   "cell_type": "code",
   "execution_count": 38,
   "metadata": {},
   "outputs": [
    {
     "data": {
      "text/latex": [
       "$\\displaystyle \\left\\{\\left( 0, \\  4, \\  -15, \\  20, \\  -10\\right)\\right\\}$"
      ],
      "text/plain": [
       "FiniteSet((0, 4, -15, 20, -10))"
      ]
     },
     "execution_count": 38,
     "metadata": {},
     "output_type": "execute_result"
    }
   ],
   "source": [
    "A = table[0:5,1:5]\n",
    "B = table[0:5,0]\n",
    "\n",
    "\n",
    "\n",
    "g = symp.Matrix([[1,1,1,1,1],[2**4,2**3,2**2,2**1,1],[3**4,3**3,3**2,3**1,1],[4**4,4**3,4**2,4**1,1],[5**4,5**3,5**2,5**1,1]])\n",
    "\n",
    "a,b,c,d,f = symp.symbols(\"a,b,c,d,f\")\n",
    "\n",
    "sol = symp.linsolve((g,B),[a,b,c,d,f])\n",
    "\n",
    "\n",
    "\n",
    "\n",
    "sol"
   ]
  },
  {
   "cell_type": "code",
   "execution_count": 17,
   "metadata": {},
   "outputs": [
    {
     "data": {
      "text/plain": [
       "109.00000000000004"
      ]
     },
     "execution_count": 17,
     "metadata": {},
     "output_type": "execute_result"
    }
   ],
   "source": [
    "-1/12* (11)**4 + 5/4*(11**3) - 37/12*(11**2) + 15/4*(11) - 17/6"
   ]
  },
  {
   "cell_type": "code",
   "execution_count": 39,
   "metadata": {},
   "outputs": [
    {
     "data": {
      "text/plain": [
       "-1"
      ]
     },
     "execution_count": 39,
     "metadata": {},
     "output_type": "execute_result"
    }
   ],
   "source": [
    "0 + 4 - 15 + 20 -10"
   ]
  },
  {
   "cell_type": "code",
   "execution_count": 40,
   "metadata": {},
   "outputs": [
    {
     "data": {
      "text/plain": [
       "2"
      ]
     },
     "execution_count": 40,
     "metadata": {},
     "output_type": "execute_result"
    }
   ],
   "source": [
    "0*(2**4) + 4*(2**3) -15*(2**2) +20*(2**1) - 10*(2**0)"
   ]
  },
  {
   "cell_type": "code",
   "execution_count": 41,
   "metadata": {},
   "outputs": [
    {
     "data": {
      "text/plain": [
       "3719"
      ]
     },
     "execution_count": 41,
     "metadata": {},
     "output_type": "execute_result"
    }
   ],
   "source": [
    "0*(11**4) + 4*(11**3) -15*(11**2) +20*(11**1) - 10*(11**0)"
   ]
  }
 ],
 "metadata": {
  "kernelspec": {
   "display_name": "Python 3",
   "language": "python",
   "name": "python3"
  },
  "language_info": {
   "codemirror_mode": {
    "name": "ipython",
    "version": 3
   },
   "file_extension": ".py",
   "mimetype": "text/x-python",
   "name": "python",
   "nbconvert_exporter": "python",
   "pygments_lexer": "ipython3",
   "version": "3.6.8"
  }
 },
 "nbformat": 4,
 "nbformat_minor": 2
}
