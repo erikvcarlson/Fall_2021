{
 "cells": [
  {
   "cell_type": "code",
   "execution_count": 1,
   "id": "ed0b69d7",
   "metadata": {},
   "outputs": [
    {
     "name": "stdout",
     "output_type": "stream",
     "text": [
      "Error Assumes that the third equation is correct: \n",
      "    Error of Root 1 for 5.6.2  Error of Root 2 for 5.6.2\n",
      "0                2.000000e-16                        0.0\n",
      "1                1.000000e-16                        0.0\n",
      "2               -3.700000e-15                        0.0\n",
      "3               -0.000000e+00                        0.0\n",
      "4                2.800000e-15                        0.0\n",
      "5               -4.010000e-14                        0.0\n",
      "6               -1.583000e-13                        0.0\n",
      "7               -5.345000e-13                        0.0\n",
      "8                6.532000e-13                        0.0\n",
      "9                1.069510e-11                        0.0\n",
      "10               1.167410e-11                        0.0\n",
      "11               3.691700e-12                        0.0\n",
      "    Error of Root 1 for 5.6.3  Error of Root 2 for 5.6.3\n",
      "0                         0.0              -2.490000e-14\n",
      "1                         0.0              -7.460000e-14\n",
      "2                         0.0               3.771560e-11\n",
      "3                         0.0               1.193700e-12\n",
      "4                         0.0              -2.862976e-09\n",
      "5                         0.0               4.142616e-07\n",
      "6                         0.0               1.633472e-05\n",
      "7                         0.0               5.516988e-04\n",
      "8                         0.0              -6.741595e-03\n",
      "9                         0.0              -1.103907e+00\n",
      "10                        0.0              -1.204977e+01\n",
      "11                        0.0              -3.810473e+01\n"
     ]
    }
   ],
   "source": [
    "import numpy as np\n",
    "import random \n",
    "import math\n",
    "import pandas as pd\n",
    "random.seed('Erik Carlson')\n",
    "\n",
    "a = random.random()\n",
    "b = random.random()\n",
    "c = random.random()\n",
    "while (b**2 - 4*a*c) <= 0:\n",
    "    a = random.random() * 100\n",
    "    b = random.random() * 100 \n",
    "    c = random.random() * 100\n",
    "\n",
    "roots_1 = []\n",
    "roots_2 = []\n",
    "roots_3 = []\n",
    "while abs(a) > 0.00001:\n",
    "    alpha562 = (-b + math.sqrt(b**2 - 4*a*c))/(2*a)\n",
    "    beta562 = (-b - math.sqrt(b**2 - 4*a*c))/(2*a)\n",
    "    alpha563 = (2*c)/(-b + math.sqrt(b**2 - 4*a*c))\n",
    "    beta563 = (2*c)/(-b - math.sqrt(b**2 - 4*a*c))\n",
    "    q = -1/2*(b + np.sign(b)*math.sqrt(b**2 - 4*a*c)) \n",
    "    x1 = q/a\n",
    "    x2 = c/q\n",
    "    root_difference_562_minus_x2 = round(alpha562 - x2,16)\n",
    "    root_difference_563_minus_x2 = round(beta563 - x2,16)\n",
    "    root_difference_562_minus_x1 = round(beta562 - x1,16)\n",
    "    root_difference_563_minus_x1 = round(alpha563 - x1,16)\n",
    "    \n",
    "    roots_1.append([root_difference_562_minus_x2,root_difference_562_minus_x1])\n",
    "    roots_2.append([root_difference_563_minus_x2,root_difference_563_minus_x1])\n",
    "\n",
    "    a = a/math.sqrt(10)\n",
    "    c = c/math.sqrt(10)\n",
    "    \n",
    "print('Error Assumes that the third equation is correct: ')\n",
    "df = pd.DataFrame(roots_1,columns =['Error of Root 1 for 5.6.2', 'Error of Root 2 for 5.6.2'])\n",
    "df1 = pd.DataFrame(roots_2,columns =['Error of Root 1 for 5.6.3', 'Error of Root 2 for 5.6.3'])\n",
    "\n",
    "\n",
    "print(df)\n",
    "print(df1)\n"
   ]
  },
  {
   "cell_type": "code",
   "execution_count": null,
   "id": "1adc2ff0",
   "metadata": {},
   "outputs": [],
   "source": []
  }
 ],
 "metadata": {
  "kernelspec": {
   "display_name": "Python 3 (ipykernel)",
   "language": "python",
   "name": "python3"
  },
  "language_info": {
   "codemirror_mode": {
    "name": "ipython",
    "version": 3
   },
   "file_extension": ".py",
   "mimetype": "text/x-python",
   "name": "python",
   "nbconvert_exporter": "python",
   "pygments_lexer": "ipython3",
   "version": "3.9.7"
  }
 },
 "nbformat": 4,
 "nbformat_minor": 5
}
